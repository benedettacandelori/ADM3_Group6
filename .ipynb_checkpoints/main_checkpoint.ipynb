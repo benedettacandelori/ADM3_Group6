{
  "cells": [
    {
      "cell_type": "markdown",
      "id": "e4cb5403",
      "metadata": {
        "id": "e4cb5403"
      },
      "source": [
        "# ADM - Homework #5"
      ]
    },
    {
      "cell_type": "markdown",
      "id": "5b1efe11",
      "metadata": {
        "id": "5b1efe11"
      },
      "source": [
        "### Dependencies"
      ]
    },
    {
      "cell_type": "markdown",
      "id": "2ab4c2ab",
      "metadata": {
        "id": "2ab4c2ab"
      },
      "source": [
        "## 1. Data"
      ]
    },
    {
      "cell_type": "code",
      "execution_count": 7,
      "id": "67c4fda6",
      "metadata": {
        "id": "67c4fda6"
      },
      "outputs": [],
      "source": [
        "import numpy as np\n",
        "import pandas as pd\n",
        "from tqdm import tqdm\n",
        "import pickle as pkl\n",
        "from time import time, mktime\n",
        "import traceback\n",
        "import sys\n",
        "import os\n",
        "from collections import OrderedDict\n",
        "import csv\n",
        "import datetime\n",
        "import ast\n",
        "import gc"
      ]
    },
    {
      "cell_type": "code",
      "source": [
        "# set Benedetta Directory\n",
        "os.chdir('/content/drive/MyDrive/Homework 5')"
      ],
      "metadata": {
        "id": "cNjInOTKgCtl"
      },
      "id": "cNjInOTKgCtl",
      "execution_count": 8,
      "outputs": []
    },
    {
      "cell_type": "code",
      "source": [
        "from google.colab import drive\n",
        "drive.mount('/content/drive')"
      ],
      "metadata": {
        "colab": {
          "base_uri": "https://localhost:8080/"
        },
        "id": "L4pqzHxAfib7",
        "outputId": "5718526d-fc6b-427b-d5f9-de8000a2ba8d"
      },
      "id": "L4pqzHxAfib7",
      "execution_count": 9,
      "outputs": [
        {
          "output_type": "stream",
          "name": "stdout",
          "text": [
            "Drive already mounted at /content/drive; to attempt to forcibly remount, call drive.mount(\"/content/drive\", force_remount=True).\n"
          ]
        }
      ]
    },
    {
      "cell_type": "markdown",
      "id": "9c5503bb",
      "metadata": {
        "id": "9c5503bb"
      },
      "source": [
        "Fetching the data from text files"
      ]
    },
    {
      "cell_type": "code",
      "execution_count": 10,
      "id": "2910a4bd",
      "metadata": {
        "id": "2910a4bd"
      },
      "outputs": [],
      "source": [
        "class Graph():\n",
        "    a2q = 'a2q'\n",
        "    c2a = 'c2a'\n",
        "    c2q = 'c2q'\n",
        "    u = 'u'\n",
        "    v = 'v'\n",
        "    w = 'w'\n",
        "    g = 'graph'\n",
        "    timestamp = 'timestamp'\n",
        "    _timestamp_csv = 'timestamp.csv'\n",
        "    _a2q_filename = \"sx-stackoverflow-a2q.txt\"\n",
        "    _c2a_filename = \"sx-stackoverflow-c2a.txt\"\n",
        "    _c2q_filename = \"sx-stackoverflow-c2q.txt\"\n",
        "    _my_graph = 'my_graph.pkl'\n",
        "    def __init__(self):\n",
        "        self.timestamp_file = None\n",
        "        self.graph_info = dict()\n",
        "    def _initialize(self, graph):\n",
        "        self.adj_list = dict()\n",
        "        if graph == Graph.a2q:\n",
        "            self.filename = self._a2q_filename\n",
        "            self.pkl = \"a2q.pkl\"\n",
        "        elif graph == Graph.c2a:\n",
        "            self.filename = self._c2a_filename\n",
        "            self.pkl = \"c2a.pkl\"\n",
        "        elif graph == Graph.c2q:\n",
        "            self.filename = self._c2q_filename\n",
        "            self.pkl = \"c2q.pkl\"\n",
        "    def _get_graph_from_text(self):\n",
        "        with open(self.filename, 'r') as file:\n",
        "            graph_list = file.readlines()\n",
        "            for i in tqdm(graph_list):\n",
        "                l = list(map(int,i.split()))\n",
        "                u, v, t = l[0], l[1], l[2]\n",
        "                if v not in self.adj_list:\n",
        "                    self.adj_list[v] = []\n",
        "                if u in self.adj_list:\n",
        "                    self.adj_list[u].append([v,t])\n",
        "                else:\n",
        "                    self.adj_list[u] = []\n",
        "                    self.adj_list[u].append([v,t])\n",
        "        self._dump_graph()\n",
        "    def _dump_graph(self):\n",
        "        with open(self.pkl, 'wb') as pkl_file:\n",
        "            pkl.dump(self.adj_list, pkl_file)\n",
        "    def get_graph(self, graph):\n",
        "        t1 = time()\n",
        "        self.graph = graph\n",
        "        print(\"Starting to fetch {} graph adjacency list...\".format(graph))\n",
        "        self._initialize(graph)\n",
        "        if not self.adj_list:\n",
        "            try:\n",
        "                with open(self.pkl, 'rb') as pkl_file:\n",
        "                    self.adj_list = pkl.load(pkl_file)        \n",
        "            except:\n",
        "                self._get_graph_from_text()\n",
        "        print(\"Fetched {} graph in {:.2f} seconds\".format(self.graph, time() - t1))\n",
        "        return self.adj_list\n",
        "    def releave_graph(self):\n",
        "        del self.adj_list\n",
        "        gc.collect()\n",
        "    def make_graph(self, timespan):\n",
        "        r = self.timestamp_file.readlines()\n",
        "        self.my_graph = dict()\n",
        "        t1, t2 = timespan\n",
        "        flag = True\n",
        "        print(\"Creating graph!\")\n",
        "        for i in tqdm(r):\n",
        "            if flag:\n",
        "                flag = False\n",
        "                continue\n",
        "            l = i.split(\",\")\n",
        "            t, u, v, w = int(l[0]), int(l[1]), int(l[2]), float(l[3])\n",
        "            if t1 <= t <= t2:\n",
        "                if v not in self.my_graph.keys():\n",
        "                    self.my_graph[v] = []\n",
        "                if u in self.my_graph.keys():\n",
        "                    self.my_graph[u].append([v,w])\n",
        "                else:\n",
        "                    self.my_graph[u] = []\n",
        "                    self.my_graph[u].append([v,w])\n",
        "        with open(self._my_graph, 'wb') as file:\n",
        "            pkl.dump(self.my_graph, file)\n",
        "    def get_timestamp(self,timespan):\n",
        "        self.timestamp_file = open(self._timestamp_csv, 'r')\n",
        "        self.make_graph(timespan)\n",
        "    def create_graph(self, graphs, timespan):\n",
        "        d1, d2 = timespan[0], timespan[1]\n",
        "        t1 = int(mktime(datetime.datetime.strptime(d1, \"%d/%m/%Y\").timetuple()))\n",
        "        t2 = int(mktime(datetime.datetime.strptime(d2, \"%d/%m/%Y\").timetuple()))\n",
        "        timespan = (t1, t2)\n",
        "        if os.path.isfile(self._timestamp_csv):\n",
        "            t1 = time()\n",
        "            print(\"Fetching {}...\".format(self._timestamp_csv))\n",
        "            self.get_timestamp(timespan)\n",
        "            print(\"Fetched in {:.2f} seconds.\".format(time()-t1))\n",
        "        else:\n",
        "            timestamp_dict = dict()\n",
        "            with open(self._timestamp_csv, 'w', newline='') as timestamp_file:\n",
        "                writer = csv.writer(timestamp_file)\n",
        "                writer.writerow([self.timestamp, self.u, self.v, self.w, self.g])\n",
        "                for graph in graphs:\n",
        "                    if graph == self.a2q:\n",
        "                        w = np.e**3\n",
        "                        filename = self._a2q_filename\n",
        "                    elif graph == self.c2q:\n",
        "                        w = np.e**2\n",
        "                        filename = self._c2q_filename\n",
        "                    elif graph == self.c2a:\n",
        "                        w = np.e\n",
        "                        filename = self._c2a_filename\n",
        "                    print(\"Converting graph {} to timestamp dictionary with w={} ...\".format(graph, str(w)) )\n",
        "                    with open(filename, 'r') as file:\n",
        "                        graph_list = file.readlines()\n",
        "                        for i in tqdm(graph_list):\n",
        "                            l = list(map(int,i.split()))\n",
        "                            u, v, t = l[0], l[1], l[2]\n",
        "                            writer.writerow([t,u,v,w,graph])\n",
        "                        del graph_list\n",
        "                        gc.collect()\n",
        "            print(\"Done!!!\")\n",
        "            gc.collect()\n",
        "            self.get_timestamp(timespan)"
      ]
    },
    {
      "cell_type": "code",
      "execution_count": 11,
      "id": "b0bbb02a",
      "metadata": {
        "id": "b0bbb02a"
      },
      "outputs": [],
      "source": [
        "g = Graph()\n",
        "list_of_graphs = [Graph.a2q, Graph.c2q, Graph.c2a]"
      ]
    },
    {
      "cell_type": "code",
      "execution_count": 12,
      "id": "8e80877b",
      "metadata": {
        "id": "8e80877b",
        "outputId": "f2e0c0c8-434f-4910-f138-87fee2662672",
        "colab": {
          "base_uri": "https://localhost:8080/"
        }
      },
      "outputs": [
        {
          "output_type": "stream",
          "name": "stdout",
          "text": [
            "Converting graph a2q to timestamp dictionary with w=20.085536923187664 ...\n"
          ]
        },
        {
          "output_type": "stream",
          "name": "stderr",
          "text": [
            "100%|██████████| 17823525/17823525 [01:21<00:00, 218534.65it/s]\n"
          ]
        },
        {
          "output_type": "stream",
          "name": "stdout",
          "text": [
            "Converting graph c2q to timestamp dictionary with w=7.3890560989306495 ...\n"
          ]
        },
        {
          "output_type": "stream",
          "name": "stderr",
          "text": [
            "100%|██████████| 20268151/20268151 [01:33<00:00, 217413.30it/s]\n"
          ]
        },
        {
          "output_type": "stream",
          "name": "stdout",
          "text": [
            "Converting graph c2a to timestamp dictionary with w=2.718281828459045 ...\n"
          ]
        },
        {
          "output_type": "stream",
          "name": "stderr",
          "text": [
            "100%|██████████| 25405374/25405374 [01:56<00:00, 218146.14it/s]\n"
          ]
        },
        {
          "output_type": "stream",
          "name": "stdout",
          "text": [
            "Done!!!\n",
            "Creating graph!\n"
          ]
        },
        {
          "output_type": "stream",
          "name": "stderr",
          "text": [
            "100%|██████████| 63497051/63497051 [02:17<00:00, 463111.15it/s]\n"
          ]
        }
      ],
      "source": [
        "g.create_graph(list_of_graphs , [\"01/12/2011\",\"05/12/2011\"])"
      ]
    },
    {
      "cell_type": "markdown",
      "id": "be658570",
      "metadata": {
        "id": "be658570"
      },
      "source": [
        "What to do to create a graph that contains certain time interval:\n",
        "1. Instantiate g = Graph\n",
        "2. Use g.create_graph(list_of_graphs, \"YOUR TIME INTERVAL\") to create a graph with edges within a time interval\n",
        "3. Use g.my_graph to get the graph's adjacency list. Remember that the adjacency list here is actualy a dictionary with keys as nodes and values as neighbors with their connection weight. {u: [[v1,w1], [v2,w2], ...]}"
      ]
    },
    {
      "cell_type": "markdown",
      "id": "b72c915b",
      "metadata": {
        "id": "b72c915b"
      },
      "source": [
        "## 2. Implementation of the backend"
      ]
    },
    {
      "cell_type": "markdown",
      "id": "9405a457",
      "metadata": {
        "id": "9405a457"
      },
      "source": [
        "### Functionality 1 - Get the overall features of the graph"
      ]
    },
    {
      "cell_type": "code",
      "execution_count": 16,
      "id": "9367d0b1",
      "metadata": {
        "id": "9367d0b1"
      },
      "outputs": [],
      "source": [
        "def func1(graph: Graph, graph_name: str, threshold = 0.2):\n",
        "    \"\"\"\n",
        "    test_function does blah blah blah.\n",
        "    \n",
        "    :param graph: instantialized Graph object\n",
        "    :param graph_name: name of the graph among Graph.a2q, Graph.c2q, and Graph c2a\n",
        "    :param threshold: threshold of the sparseness of the graph (must be lower than 0.5)\n",
        "    :return: a list -> [Whether the graph is directed or not, Number of users, Number of answers/comments,\n",
        "                Average number of links per user, Density degree of the graph,\n",
        "                Whether the graph is sparse, Whether the graph is dense]\n",
        "    \"\"\" \n",
        "    graph.get_graph(graph_name)\n",
        "    is_directed = False;\n",
        "    keys = graph.adj_list.keys()\n",
        "    vertex_num = len(keys)\n",
        "    degree = 0\n",
        "    links_per_users_num = 0\n",
        "    density_degree = 0\n",
        "    is_sparse = 0\n",
        "    is_dense = 0\n",
        "    for key in tqdm(keys):\n",
        "        val = graph.adj_list[key]\n",
        "        if len(val)>=1:\n",
        "            val = np.array(val)[:,0]\n",
        "            degree += len(val)\n",
        "            if not is_directed:\n",
        "                for v in val:\n",
        "                    if v in graph.adj_list.keys():\n",
        "                        val_v = graph.adj_list[v]\n",
        "                        if len(val_v)>=1:\n",
        "                            val_v = set(np.array(graph.adj_list[v])[:,0].flatten())\n",
        "                            if key in val_v:\n",
        "                                continue;\n",
        "                            else:\n",
        "                                is_directed = True\n",
        "                                break\n",
        "    links_per_users_num = degree / vertex_num\n",
        "    clique_num = (vertex_num * (vertex_num - 1)) / 2\n",
        "    density_degree = (degree // 2) / clique_num\n",
        "    if density_degree >= (1-threshold) * clique_num:\n",
        "        is_dense = 1\n",
        "    elif density_degree <= threshold * clique_num:\n",
        "        is_sparse = 1\n",
        "    graph.releave_graph()\n",
        "    return [is_directed, vertex_num, degree, links_per_users_num, density_degree, is_sparse, is_dense]"
      ]
    },
    {
      "cell_type": "code",
      "execution_count": null,
      "id": "e7f5676d",
      "metadata": {
        "id": "e7f5676d",
        "outputId": "3f9e3f90-d274-4a99-8285-3924fe1f0598"
      },
      "outputs": [
        {
          "name": "stdout",
          "output_type": "stream",
          "text": [
            "Starting to fetch a2q graph adjacency list...\n"
          ]
        },
        {
          "name": "stderr",
          "output_type": "stream",
          "text": [
            "  0%|                                                                        | 1200/2464606 [00:00<03:27, 11888.56it/s]"
          ]
        },
        {
          "name": "stdout",
          "output_type": "stream",
          "text": [
            "Fetched a2q graph in 15.44 seconds\n"
          ]
        },
        {
          "name": "stderr",
          "output_type": "stream",
          "text": [
            "100%|████████████████████████████████████████████████████████████████████| 2464606/2464606 [00:17<00:00, 138530.96it/s]"
          ]
        },
        {
          "name": "stdout",
          "output_type": "stream",
          "text": [
            "[True, 2464606, 17823525, 7.231794858894282, 2.9342610491944615e-06, 1, 0]\n"
          ]
        },
        {
          "name": "stderr",
          "output_type": "stream",
          "text": [
            "\n"
          ]
        }
      ],
      "source": [
        "print(func1(g, Graph.a2q))"
      ]
    },
    {
      "cell_type": "markdown",
      "id": "eb829da4",
      "metadata": {
        "id": "eb829da4"
      },
      "source": [
        "###  Functionality 2 - Find the best users! "
      ]
    },
    {
      "cell_type": "code",
      "execution_count": null,
      "id": "7dbf4e25",
      "metadata": {
        "id": "7dbf4e25"
      },
      "outputs": [],
      "source": [
        "#not done\n",
        "def dijkstra(graph: dict, u: int):\n",
        "    dist = dict()\n",
        "    current_node = u\n",
        "    unvisited = set()\n",
        "    visited = set()\n",
        "    while True:\n",
        "        val = graph[current_node]\n",
        "        v = np.array(val)[:,0]\n",
        "        w = np.array(val)[:,1]\n",
        "        unvisited.update(v)\n",
        "        dist.update(dict(zip(v,w)))\n",
        "        break\n",
        "    print(dist)"
      ]
    },
    {
      "cell_type": "code",
      "execution_count": null,
      "id": "ffe5e21d",
      "metadata": {
        "id": "ffe5e21d"
      },
      "outputs": [],
      "source": [
        "class Metric():\n",
        "    betweenness = \"Betweenness\"\n",
        "    pagerank = \"PageRank\"\n",
        "    closeness_cent = \"ClosenessCentrality\"\n",
        "    degree_cent = \"DegreeCentrality\"\n",
        "    def compute_betweeness(self, graph: dict):\n",
        "        self.sp = dict()\n",
        "        for key in graph.keys():\n",
        "            val = graph[key]\n",
        "            dijkstra(graph, key)\n",
        "            break\n",
        "    def compute_page_rank(self, graph: dict):\n",
        "        self.pr = dict()\n",
        "        keys = graph.keys()\n",
        "        n = len(keys)\n",
        "        r_default = 1/n\n",
        "        for key in tqdm(keys):\n",
        "            val = graph[key]\n",
        "            if len(val) >= 1:\n",
        "                val = np.array(val)[:,0]\n",
        "                out_degree = len(val)\n",
        "                if key not in self.pr.keys():\n",
        "                    self.pr[key] = [r_default, out_degree, []]\n",
        "                for v in val:\n",
        "                    if v in self.pr.keys():\n",
        "                        self.pr[v][2].append(key)\n",
        "                    else:\n",
        "                        out_degree_v = len(graph[v])\n",
        "                        self.pr[v] = [r_default, out_degree_v, [key]]     \n",
        "        epsilon = 0.000000001\n",
        "        beta = 0.2\n",
        "        while True:\n",
        "            d = dict()\n",
        "            for vertex in self.pr.keys():\n",
        "                u = self.pr[vertex]\n",
        "                r_prev = u[0]\n",
        "                in_degrees = u[2]\n",
        "                r = 0\n",
        "                for v in in_degrees:\n",
        "                    r += beta * (self.pr[v][0]/self.pr[v][1])\n",
        "                r += (1 - beta)/n\n",
        "                self.pr[vertex][0] = r\n",
        "                cond = abs(r - r_prev)\n",
        "                d[vertex] = cond\n",
        "                if cond <= epsilon:\n",
        "                    break\n",
        "            a = np.array(list(d.values()))\n",
        "            if len(a[a > epsilon]) == 0:\n",
        "                break;\n"
      ]
    },
    {
      "cell_type": "code",
      "execution_count": null,
      "id": "879e1527",
      "metadata": {
        "id": "879e1527"
      },
      "outputs": [],
      "source": [
        "def func2(graph: dict, metric: Metric, node: int, metric_type):\n",
        "    \"\"\"\n",
        "    test_function does blah blah blah.\n",
        "    \n",
        "    :param graph: instantialized Graph object\n",
        "    :param metric: instantiated metric object\n",
        "    :param node: The node that the func2 is going to be applied to\n",
        "    :param metric_type: the type of the metric wanted [Metric.pagerank, Metric.betweenness, Metric.closeness_cent, Metric.degree_cent]\n",
        "    :return: a list -> [Whether the graph is directed or not, Number of users, Number of answers/comments,\n",
        "                Average number of links per user, Density degree of the graph,\n",
        "                Whether the graph is sparse, Whether the graph is dense]\n",
        "    \"\"\" \n",
        "    if metric_type == Metric.pagerank:\n",
        "        metric.compute_page_rank(graph)\n",
        "        return metric.pr[node][0]\n",
        "    elif metric_type == Metric.betweenness:\n",
        "        metric.compute_betweeness(graph)"
      ]
    },
    {
      "cell_type": "code",
      "execution_count": null,
      "id": "1c0e4dc3",
      "metadata": {
        "id": "1c0e4dc3"
      },
      "outputs": [],
      "source": [
        "metric = Metric()"
      ]
    },
    {
      "cell_type": "code",
      "execution_count": null,
      "id": "41bfd5d6",
      "metadata": {
        "id": "41bfd5d6",
        "outputId": "50b82133-8daf-420b-9979-73dc9b4a787c"
      },
      "outputs": [
        {
          "name": "stderr",
          "output_type": "stream",
          "text": [
            "100%|█████████████████████████████████████████████████████████████████████████| 27338/27338 [00:00<00:00, 84808.68it/s]\n"
          ]
        },
        {
          "data": {
            "text/plain": [
              "5.148767873643986e-05"
            ]
          },
          "execution_count": 175,
          "metadata": {},
          "output_type": "execute_result"
        }
      ],
      "source": [
        "func2(g.my_graph, metric, 1040563, Metric.pagerank)"
      ]
    },
    {
      "cell_type": "markdown",
      "id": "13761cfe",
      "metadata": {
        "id": "13761cfe"
      },
      "source": [
        "### Functionality 3 - Shortest Ordered Route "
      ]
    },
    {
      "cell_type": "code",
      "execution_count": null,
      "id": "c41faab9",
      "metadata": {
        "id": "c41faab9"
      },
      "outputs": [],
      "source": [
        ""
      ]
    },
    {
      "cell_type": "markdown",
      "id": "858c3fe1",
      "metadata": {
        "id": "858c3fe1"
      },
      "source": [
        "### Functionality 4 - Disconnecting graphs "
      ]
    },
    {
      "cell_type": "code",
      "execution_count": null,
      "id": "885f96ce",
      "metadata": {
        "id": "885f96ce"
      },
      "outputs": [],
      "source": [
        ""
      ]
    },
    {
      "cell_type": "markdown",
      "id": "f2e8e0b9",
      "metadata": {
        "id": "f2e8e0b9"
      },
      "source": [
        "## 3. Implementation of the frontend"
      ]
    },
    {
      "cell_type": "markdown",
      "id": "91d2e682",
      "metadata": {
        "id": "91d2e682"
      },
      "source": [
        "### Visualization 1 - Visualize the overall features of the graph "
      ]
    },
    {
      "cell_type": "code",
      "source": [
        "def choose_the_graph():\n",
        "\n",
        "  # let the user choose  which type of graoh he is interested in\n",
        "  graph_type = input('Choose a graph: \\nA: Graph with answers to questions \\nB: Graph with comments to questions \\nC: Graph with comments to answers\\n')\n",
        "  if graph_type == 'A':\n",
        "    choose_graph, gr = Graph.a2q, 'answers to questions'\n",
        "  elif graph_type == 'B':\n",
        "    choose_graph, gr = Graph.c2q, 'comments to questions'\n",
        "  elif graph_type == 'C':\n",
        "    choose_graph, gr = Graph.c2a, 'comments to answers'\n",
        "  return(choose_graph, gr)"
      ],
      "metadata": {
        "id": "hoj85qTP4fPM"
      },
      "id": "hoj85qTP4fPM",
      "execution_count": 76,
      "outputs": []
    },
    {
      "cell_type": "code",
      "source": [
        "def visualization1(g):\n",
        "\n",
        "  '''This function returns a table which contains some important features that characterize a graph. The graph which we are dealing with is chosen by the user'''\n",
        "\n",
        "  choose_graph, gr = choose_the_graph()\n",
        "\n",
        "  # call the function of the first functionality to get some summaries of the chosen graph\n",
        "  is_directed, vertex_num, degree, links_per_users_num, density_degree, is_sparse, is_dense = func1(g, choose_graph)\n",
        "  # modify some output for the visualization \n",
        "  if is_directed:\n",
        "    directed = \"It's directed!\"\n",
        "  else:\n",
        "    directed = \"It's undirected!\"\n",
        "  if is_sparse == 1:\n",
        "    sparse = \"It's sparse!\"\n",
        "  else:\n",
        "    sparse = \"It's dense!\"\n",
        "  links_per_users_num = round(links_per_users_num,3)\n",
        "  density_degree = round(density_degree,5)\n",
        "\n",
        "  # print the table \n",
        "  print('\\n\\nGraph with '+gr)\n",
        "  d = {'Summary': [directed,vertex_num,degree,links_per_users_num,density_degree,sparse]}\n",
        "  df = pd.DataFrame(data=d, index = [\"Directed or Undirected?\",\"Number users\",\"Number of comments/answers\",\"Average degree\",\"Density degree\",\"Sparse or Dense?\"])\n",
        "  return(df)\n",
        "  "
      ],
      "metadata": {
        "id": "pEi093ixt7rE"
      },
      "id": "pEi093ixt7rE",
      "execution_count": 77,
      "outputs": []
    },
    {
      "cell_type": "code",
      "source": [
        "visualization1(g)"
      ],
      "metadata": {
        "colab": {
          "base_uri": "https://localhost:8080/",
          "height": 440
        },
        "id": "aZXYBO5D2ZY_",
        "outputId": "a4626f72-24be-43c6-d5be-2558f8f937b2"
      },
      "id": "aZXYBO5D2ZY_",
      "execution_count": 78,
      "outputs": [
        {
          "output_type": "stream",
          "name": "stdout",
          "text": [
            "Choose a graph: \n",
            "A: Graph with answers to questions \n",
            "B: Graph with comments to questions \n",
            "C: Graph with comments to answers\n",
            "B\n",
            "Starting to fetch c2q graph adjacency list...\n",
            "Fetched c2q graph in 17.44 seconds\n"
          ]
        },
        {
          "output_type": "stream",
          "name": "stderr",
          "text": [
            "100%|██████████| 1655353/1655353 [00:23<00:00, 70300.66it/s] "
          ]
        },
        {
          "output_type": "stream",
          "name": "stdout",
          "text": [
            "\n",
            "\n",
            "Graph with comments to questions\n"
          ]
        },
        {
          "output_type": "stream",
          "name": "stderr",
          "text": [
            "\n"
          ]
        },
        {
          "output_type": "execute_result",
          "data": {
            "text/html": [
              "<div>\n",
              "<style scoped>\n",
              "    .dataframe tbody tr th:only-of-type {\n",
              "        vertical-align: middle;\n",
              "    }\n",
              "\n",
              "    .dataframe tbody tr th {\n",
              "        vertical-align: top;\n",
              "    }\n",
              "\n",
              "    .dataframe thead th {\n",
              "        text-align: right;\n",
              "    }\n",
              "</style>\n",
              "<table border=\"1\" class=\"dataframe\">\n",
              "  <thead>\n",
              "    <tr style=\"text-align: right;\">\n",
              "      <th></th>\n",
              "      <th>Summary</th>\n",
              "    </tr>\n",
              "  </thead>\n",
              "  <tbody>\n",
              "    <tr>\n",
              "      <th>Directed or Undirected?</th>\n",
              "      <td>It's directed!</td>\n",
              "    </tr>\n",
              "    <tr>\n",
              "      <th>Number users</th>\n",
              "      <td>1655353</td>\n",
              "    </tr>\n",
              "    <tr>\n",
              "      <th>Number of comments/answers</th>\n",
              "      <td>20268151</td>\n",
              "    </tr>\n",
              "    <tr>\n",
              "      <th>Average degree</th>\n",
              "      <td>12.244</td>\n",
              "    </tr>\n",
              "    <tr>\n",
              "      <th>Density degree</th>\n",
              "      <td>1e-05</td>\n",
              "    </tr>\n",
              "    <tr>\n",
              "      <th>Sparse or Dense?</th>\n",
              "      <td>It's sparse!</td>\n",
              "    </tr>\n",
              "  </tbody>\n",
              "</table>\n",
              "</div>"
            ],
            "text/plain": [
              "                                   Summary\n",
              "Directed or Undirected?     It's directed!\n",
              "Number users                       1655353\n",
              "Number of comments/answers        20268151\n",
              "Average degree                      12.244\n",
              "Density degree                       1e-05\n",
              "Sparse or Dense?              It's sparse!"
            ]
          },
          "metadata": {},
          "execution_count": 78
        }
      ]
    },
    {
      "cell_type": "markdown",
      "id": "e5efe4b3",
      "metadata": {
        "id": "e5efe4b3"
      },
      "source": [
        "### Visualization 2 - Visualize the best user! "
      ]
    },
    {
      "cell_type": "code",
      "execution_count": null,
      "id": "7666a2bc",
      "metadata": {
        "id": "7666a2bc"
      },
      "outputs": [],
      "source": [
        ""
      ]
    },
    {
      "cell_type": "markdown",
      "id": "f9bfd1e9",
      "metadata": {
        "id": "f9bfd1e9"
      },
      "source": [
        "### Visualization 3 - Visualize the Shortest Ordered Route "
      ]
    },
    {
      "cell_type": "code",
      "execution_count": null,
      "id": "9faf412f",
      "metadata": {
        "id": "9faf412f"
      },
      "outputs": [],
      "source": [
        ""
      ]
    },
    {
      "cell_type": "markdown",
      "id": "75116865",
      "metadata": {
        "id": "75116865"
      },
      "source": [
        "### Visualization 4 - Visualize disconnecting graphs "
      ]
    },
    {
      "cell_type": "code",
      "execution_count": null,
      "id": "2a886523",
      "metadata": {
        "id": "2a886523"
      },
      "outputs": [],
      "source": [
        ""
      ]
    },
    {
      "cell_type": "markdown",
      "id": "079706b8",
      "metadata": {
        "id": "079706b8"
      },
      "source": [
        "## 4. Algorithmic question"
      ]
    },
    {
      "cell_type": "code",
      "execution_count": null,
      "id": "1b84a348",
      "metadata": {
        "id": "1b84a348"
      },
      "outputs": [],
      "source": [
        ""
      ]
    }
  ],
  "metadata": {
    "kernelspec": {
      "display_name": "Python 3",
      "language": "python",
      "name": "python3"
    },
    "language_info": {
      "codemirror_mode": {
        "name": "ipython",
        "version": 3
      },
      "file_extension": ".py",
      "mimetype": "text/x-python",
      "name": "python",
      "nbconvert_exporter": "python",
      "pygments_lexer": "ipython3",
      "version": "3.8.8"
    },
    "colab": {
      "name": "main-checkpoint.ipynb",
      "provenance": []
    }
  },
  "nbformat": 4,
  "nbformat_minor": 5
}