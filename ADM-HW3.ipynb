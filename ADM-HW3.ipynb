{
 "cells": [
  {
   "cell_type": "markdown",
   "id": "fb064aa1-d973-416b-a3d9-ff36e673c52e",
   "metadata": {},
   "source": [
    "Importing a few useful libraries"
   ]
  },
  {
   "cell_type": "code",
   "execution_count": 1,
   "id": "2fbe6f78-64a9-4f80-8716-a3f1c3559d2d",
   "metadata": {},
   "outputs": [],
   "source": [
    "import bs4\n",
    "from bs4 import BeautifulSoup\n",
    "import requests\n",
    "import os.path\n",
    "import re\n",
    "import pandas as pd\n",
    "import numpy as np\n",
    "import matplotlib.pyplot as plt\n",
    "import csv\n",
    "import json\n",
    "from datetime import datetime\n",
    "from tqdm import tqdm\n",
    "from collections import defaultdict\n",
    "from collections import Counter\n",
    "from IPython.core.display import HTML\n",
    "import time\n",
    "import nltk\n",
    "\n",
    "# custom libraries\n",
    "from data_collection import *\n",
    "from tsv_management import *\n",
    "from search_engine import *\n",
    "from custom_search_engine import *\n",
    "\n",
    "# nltk text preprocessing utilities\n",
    "from nltk.corpus import stopwords\n",
    "from nltk.tokenize import RegexpTokenizer\n",
    "from nltk.stem import PorterStemmer\n",
    "from nltk.corpus import wordnet\n",
    "from nltk.stem import WordNetLemmatizer \n",
    "\n",
    "# to be executed once\n",
    "#nltk.download('wordnet')\n",
    "#nltk.download('stopwords')  \n",
    "#nltk.download('punkt')\n",
    "#nltk.download('averaged_perceptron_tagger')\n",
    "#nltk.download('universal_tagset')"
   ]
  },
  {
   "cell_type": "markdown",
   "id": "b6df3b0b-5eac-4baa-9bb8-ebea7d8412a8",
   "metadata": {},
   "source": [
    "# 1. Data Collection"
   ]
  },
  {
   "cell_type": "markdown",
   "id": "02ded196-3452-4684-9578-2ecd2cc93c10",
   "metadata": {},
   "source": [
    "We start by retrieving the list of links associated to every anime."
   ]
  },
  {
   "cell_type": "code",
   "execution_count": 1,
   "id": "8afdc438-5756-4221-89e4-cff84f231fb5",
   "metadata": {},
   "outputs": [],
   "source": [
    "link_retrieval()"
   ]
  },
  {
   "cell_type": "markdown",
   "id": "cc217a38-0593-4072-9ec9-01315051ae3e",
   "metadata": {},
   "source": [
    "We retrieved a total of 19128 anime links."
   ]
  },
  {
   "cell_type": "markdown",
   "id": "d5b6fbfb-e46e-4f99-9498-e4c62a97949f",
   "metadata": {},
   "source": [
    "We then we crawl every page in an html file."
   ]
  },
  {
   "cell_type": "code",
   "execution_count": 2,
   "id": "cb542977-d9a8-4fb6-a3f1-2efd2d15e272",
   "metadata": {},
   "outputs": [],
   "source": [
    "total_anime = data_crawling()"
   ]
  },
  {
   "cell_type": "markdown",
   "id": "5e027e55-177c-468e-8871-da9098ba49b4",
   "metadata": {},
   "source": [
    "Because of the large number of requests, the site would stop the access every once in a while; to deal with this problem we set a waiting time between each request (0.1 s) and a 60 seconds pause every time the site returns a captcha page. This allowed us to download all the pages in about 12 hours."
   ]
  },
  {
   "cell_type": "markdown",
   "id": "31308ec0-06c1-4f2e-a025-3e0d0e366a55",
   "metadata": {},
   "source": [
    "Now we parse from every html file the data we are interested in into a dictionary. In doing so we also checked if some values contain a tab character, and we removed them. Finally we saved every dictionary into a tsv file."
   ]
  },
  {
   "cell_type": "code",
   "execution_count": 3,
   "id": "ce0a8ef5-b5c3-4460-a56b-750006a08457",
   "metadata": {},
   "outputs": [],
   "source": [
    "tsv_gen()"
   ]
  },
  {
   "cell_type": "markdown",
   "id": "c6edb367-d51f-4d74-a0d8-f2db2ac7e124",
   "metadata": {},
   "source": [
    "We wrote a set of useful functions to retrieve the informations about every anime from these tsv files. The details can be found in the library `tsv_management.py`. Here we give some simple examples on how to use them:"
   ]
  },
  {
   "cell_type": "code",
   "execution_count": 8,
   "id": "0b986818-9826-4f23-a520-5cfbb9426ef1",
   "metadata": {},
   "outputs": [],
   "source": [
    "titles = column_retrieval('animeTitle')  # returns the value of the input column for every anime\n",
    "\n",
    "## NOTE: the tsv files are indexed starting from 1\n",
    "anime_8 = tsv_retrieval(8)  # reads the data in anime_8.tsv and returns it in a dictionary\n",
    "\n",
    "all_anime = load_all_tsv()   # returns the dictionaries associated to every anime in one list"
   ]
  },
  {
   "cell_type": "code",
   "execution_count": 10,
   "id": "e22a1581-98e6-4a3a-8fdd-5359386fc91a",
   "metadata": {},
   "outputs": [
    {
     "name": "stdout",
     "output_type": "stream",
     "text": [
      "Ginga Eiyuu Densetsu\n",
      "Ginga Eiyuu Densetsu\n",
      "Ginga Eiyuu Densetsu\n"
     ]
    }
   ],
   "source": [
    "print(titles[7])\n",
    "print(anime_8['animeTitle'])\n",
    "print(all_anime[7]['animeTitle'])"
   ]
  },
  {
   "cell_type": "code",
   "execution_count": 125,
   "id": "aaedcc51-2510-40ea-97fc-2b7e5c69a23e",
   "metadata": {},
   "outputs": [
    {
     "data": {
      "text/plain": [
       "Counter({'TV': 5515,\n",
       "         'OVA': 3933,\n",
       "         'Movie': 3476,\n",
       "         'ONA': 2211,\n",
       "         'Special': 2294,\n",
       "         'Music': 1648,\n",
       "         None: 51})"
      ]
     },
     "execution_count": 125,
     "metadata": {},
     "output_type": "execute_result"
    }
   ],
   "source": [
    "animeType = column_retrieval('animeType')\n",
    "Counter(animeType)"
   ]
  },
  {
   "cell_type": "markdown",
   "id": "91ebc0e0-9e41-496a-bc5d-95cf447b8db4",
   "metadata": {},
   "source": [
    "# 2. Search Engine"
   ]
  },
  {
   "cell_type": "markdown",
   "id": "ccba481a-4b0e-4c62-b800-e4fc788994d9",
   "metadata": {},
   "source": [
    "We start by defining some utilities to preprocess out data:\n",
    "\n",
    "We will perform the following operations for text preprocessing:\n",
    "1. Regex tokenization (to tokenize and remove punctuation all at once)\n",
    "2. Convert every token to lowercase\n",
    "3. Stopwords removal (according to NLTK stopwords library for the english language)\n",
    "4. Stemming using Porter stemmer (to both normalize and stem the words)\n",
    "\n",
    "We wrote a function for this exact purpose:"
   ]
  },
  {
   "cell_type": "code",
   "execution_count": 3,
   "id": "88bfa4d8-28a6-414f-81c6-5f19aa36b519",
   "metadata": {},
   "outputs": [
    {
     "data": {
      "text/plain": [
       "['sampl', 'text', 'word', 'token', 'stem']"
      ]
     },
     "execution_count": 3,
     "metadata": {},
     "output_type": "execute_result"
    }
   ],
   "source": [
    "preprocessing('Sample text\\n These words will be tokenized and stemmed\\n')"
   ]
  },
  {
   "cell_type": "markdown",
   "id": "658a96fe-d2dd-4a12-b2fa-477ca31bd49b",
   "metadata": {},
   "source": [
    "We start by generating our vocabulary of all the words in the anime descriptions which associates every word to an integer:"
   ]
  },
  {
   "cell_type": "code",
   "execution_count": 2,
   "id": "36d0d5bb-af3f-4ebc-bda4-fa1a1c7215da",
   "metadata": {},
   "outputs": [
    {
     "name": "stderr",
     "output_type": "stream",
     "text": [
      "Retrieving tsv: 100%|██████████| 19128/19128 [00:08<00:00, 2324.62it/s]\n",
      "Preprocessing documents: 100%|██████████| 19128/19128 [03:42<00:00, 85.89it/s] \n"
     ]
    }
   ],
   "source": [
    "vocabulary_generation()"
   ]
  },
  {
   "cell_type": "markdown",
   "id": "cddb5005-ad84-4f76-b55f-cfb8a1e07c50",
   "metadata": {},
   "source": [
    "The vocabulary is saved in a json file. We will read it from the disk as needed:"
   ]
  },
  {
   "cell_type": "code",
   "execution_count": 3,
   "id": "d9e0629b-9ff6-46ca-8fcd-1eb49cd0e892",
   "metadata": {},
   "outputs": [],
   "source": [
    "vocabulary = vocabulary_retrieval()"
   ]
  },
  {
   "cell_type": "markdown",
   "id": "5d73c3ef-cdee-4e5c-b4a3-af6f62290af0",
   "metadata": {},
   "source": [
    "We can also easly invert the dictionary to find the word corresponding to a certain integer:"
   ]
  },
  {
   "cell_type": "code",
   "execution_count": 6,
   "id": "a3fd88e0-7eb7-4e71-a00b-cbd6b4fdfb0c",
   "metadata": {},
   "outputs": [
    {
     "name": "stdout",
     "output_type": "stream",
     "text": [
      "7 reishin\n"
     ]
    }
   ],
   "source": [
    "integer_to_word = vocabulary_inversion(vocabulary)\n",
    "print(vocabulary[integer_to_word[7]], integer_to_word[7])"
   ]
  },
  {
   "cell_type": "markdown",
   "id": "759ccfb1-0698-4bd2-8234-977db7744396",
   "metadata": {},
   "source": [
    "## 2.1. Conjunctive query"
   ]
  },
  {
   "cell_type": "markdown",
   "id": "7b7c3c8a-8848-490e-83fe-983f47a1d639",
   "metadata": {},
   "source": [
    "Our first search engine will just sarch for all the anime that contain the query in the description.\n",
    "\n",
    "We start by building our first inverted index using the anime descriptions. Because each word is associated to an integer, and because our inverted index will contain all the words in our vocabulary (from 0 to `len(vocabulary)`), we decided to store the inverted index as a list of lists, in which the $i^{th}$ entry corresponds to the inverted list associated to the word indexed by $i$."
   ]
  },
  {
   "cell_type": "code",
   "execution_count": 2,
   "id": "00c8c5e8-85f3-4b21-9f42-6b4e1fa2a441",
   "metadata": {},
   "outputs": [
    {
     "name": "stderr",
     "output_type": "stream",
     "text": [
      "Retrieving tsv: 100%|██████████| 19128/19128 [02:36<00:00, 122.28it/s]\n",
      "Preprocessing documents: 100%|██████████| 19128/19128 [03:29<00:00, 91.09it/s] \n",
      "Building the inverted index: 100%|██████████| 19128/19128 [00:02<00:00, 9160.42it/s] \n"
     ]
    }
   ],
   "source": [
    "unranked_inverted_index_generation()"
   ]
  },
  {
   "cell_type": "markdown",
   "id": "cae8f427-dcae-49ad-bfa5-428f4ec5a8f5",
   "metadata": {},
   "source": [
    "Just as the vocabulary, our inverted index is saved in a json file, and we will read it as part of the search engine initialization. Before starting with the actual search, we want to comment some choices that we made during the implementation of the engine:"
   ]
  },
  {
   "cell_type": "markdown",
   "id": "d3759366-fc55-4845-8283-6d4b61418f82",
   "metadata": {},
   "source": [
    "* We index the anime starting from $1$ (just as the tsv file names), so we decided to assign the index $0$ to a (virtual) document that contain every word in the vocabulary. Because of this choice every sublist of our inverted index list starts with this $0$ index. This choice has been dictated by a convenience in the computation of the intersection: having a universal document makes it so that the intersection between elements of the inverted index will never be empty, and allows us to terminate the algorithm with minimal effort in terms of length checking."
   ]
  },
  {
   "cell_type": "markdown",
   "id": "d1beb53e-cf27-40dd-a99b-800b85eae6ce",
   "metadata": {},
   "source": [
    "* The other choice we made regards the algorithm that computes the intersection between the elements of the inverted index. As said before, thanks to our choice of defining the universal $0$ document, the intersections will never be empty; this brings some convenience in terms of checking whether the algorithm has finished or not. Our other \"unusual\" choice regards the fact that we start intersecting the lists starting from their last element and proceeding backwards, so that the universal document will always be our last match."
   ]
  },
  {
   "cell_type": "markdown",
   "id": "179f8120-8b3b-49f2-b93e-c962acfb2f0a",
   "metadata": {},
   "source": [
    "We are now ready to initialize our search engine. What this does is loading the inverted index and the vocabulary in memory to have them ready for the search."
   ]
  },
  {
   "cell_type": "code",
   "execution_count": 7,
   "id": "112bd4a0-9e5e-4359-aba2-4a1556c4e598",
   "metadata": {},
   "outputs": [],
   "source": [
    "## YOU NEED TO EXECUTE THIS ONLY ONCE\n",
    "vocabulary, unranked_inverted_index = unranked_search_engine_initialization()"
   ]
  },
  {
   "cell_type": "markdown",
   "id": "a63156ee-aa5a-4dad-b2ca-18e589cda670",
   "metadata": {},
   "source": [
    "And we are now ready to search for some anime!"
   ]
  },
  {
   "cell_type": "code",
   "execution_count": 8,
   "id": "7d70b5c3-6095-4ebf-85ac-50ec284c8818",
   "metadata": {},
   "outputs": [
    {
     "name": "stdin",
     "output_type": "stream",
     "text": [
      "Input a query: saiyan race\n"
     ]
    },
    {
     "name": "stdout",
     "output_type": "stream",
     "text": [
      "\n",
      "4 search results found!\n",
      "\n"
     ]
    },
    {
     "data": {
      "text/html": [
       "<table border=\"1\" class=\"dataframe\">\n",
       "  <thead>\n",
       "    <tr style=\"text-align: right;\">\n",
       "      <th>animeTitle</th>\n",
       "      <th>animeDescription</th>\n",
       "      <th>Url</th>\n",
       "    </tr>\n",
       "  </thead>\n",
       "  <tbody>\n",
       "    <tr>\n",
       "      <td>Dragon Ball Z Special 1: Tatta Hitori no Saishuu Kessen</td>\n",
       "      <td>Bardock, Son Goku's father, is a low-ranking Saiyan soldier who was given the power to see into the future by the last remaining alien on a planet he just destroyed. He witnesses the destruction of his race and must now do his best to stop Frieza's impending massacre.  (Source: ANN)</td>\n",
       "      <td>https://myanimelist.net/anime/986/Dragon_Ball_Z_Special_1__Tatta_Hitori_no_Saishuu_Kessen</td>\n",
       "    </tr>\n",
       "    <tr>\n",
       "      <td>Dragon Ball Kai</td>\n",
       "      <td>Five years after the events of Dragon Ball, martial arts expert Gokuu is now a grown man married to his wife Chi-Chi, with a four-year old son named Gohan. While attending a reunion on Turtle Island with his old friends Master Roshi, Krillin, Bulma and others, the festivities are interrupted when a humanoid alien named Raditz not only reveals the truth behind Gokuu's past, but kidnaps Gohan as well.  With Raditz displaying power beyond anything Gokuu has seen before, he is forced to team up with his old nemesis, Piccolo, in order to rescue his son. But when Gokuu and Piccolo reveal the secret of the seven mystical wish-granting Dragon Balls to Raditz, he informs the duo that there is more of his race, the Saiyans, and they won’t pass up an opportunity to seize the power of the Dragon Balls for themselves.  These events begin the saga of Dragon Ball Kai, a story that finds Gokuu and his friends and family constantly defending the galaxy from increasingly more powerful threats. Bizarre, comical, heartwarming and threatening characters come together in a series of battles that push the powers and abilities of Gokuu and his friends beyond anything they have ever experienced.</td>\n",
       "      <td>https://myanimelist.net/anime/6033/Dragon_Ball_Kai</td>\n",
       "    </tr>\n",
       "    <tr>\n",
       "      <td>Dragon Ball Super: Broly</td>\n",
       "      <td>Forty-one years ago on Planet Vegeta, home of the infamous Saiyan warrior race, King Vegeta noticed a baby named Broly whose latent power exceeded that of his own son. Believing that Broly's power would one day surpass that of his child, Vegeta, the king sends Broly to the desolate planet Vampa. Broly's father Paragus follows after him, intent on rescuing his son. However, his ship gets damaged, causing the two to spend years trapped on the barren world, unaware of the salvation that would one day come from an unlikely ally.  Years later on Earth, Gokuu Son and Prince Vegeta—believed to be the last survivors of the Saiyan race—are busy training on a remote island. But their sparring is interrupted when the appearance of their old enemy Frieza drives them to search for the last of the wish-granting Dragon Balls on a frozen continent. Once there, Frieza shows off his new allies: Paragus and the now extremely powerful Broly. A legendary battle that shakes the foundation of the world ensues as Gokuu and Vegeta face off against Broly, a warrior without equal whose rage is just waiting to be unleashed.  [Written by MAL Rewrite]</td>\n",
       "      <td>https://myanimelist.net/anime/36946/Dragon_Ball_Super__Broly</td>\n",
       "    </tr>\n",
       "    <tr>\n",
       "      <td>Dragon Ball Z</td>\n",
       "      <td>Five years after winning the World Martial Arts tournament, Gokuu is now living a peaceful life with his wife and son. This changes, however, with the arrival of a mysterious enemy named Raditz who presents himself as Gokuu's long-lost brother. He reveals that Gokuu is a warrior from the once powerful but now virtually extinct Saiyan race, whose homeworld was completely annihilated. When he was sent to Earth as a baby, Gokuu's sole purpose was to conquer and destroy the planet; but after suffering amnesia from a head injury, his violent and savage nature changed, and instead was raised as a kind and well-mannered boy, now fighting to protect others.  With his failed attempt at forcibly recruiting Gokuu as an ally, Raditz warns Gokuu's friends of a new threat that's rapidly approaching Earth—one that could plunge Earth into an intergalactic conflict and cause the heavens themselves to shake. A war will be fought over the seven mystical dragon balls, and only the strongest will survive in Dragon Ball Z.  [Written by MAL Rewrite]</td>\n",
       "      <td>https://myanimelist.net/anime/813/Dragon_Ball_Z</td>\n",
       "    </tr>\n",
       "  </tbody>\n",
       "</table>"
      ],
      "text/plain": [
       "<IPython.core.display.HTML object>"
      ]
     },
     "metadata": {},
     "output_type": "display_data"
    }
   ],
   "source": [
    "unranked_search(vocabulary, unranked_inverted_index)"
   ]
  },
  {
   "cell_type": "markdown",
   "id": "a30c9140-5346-4dfe-bde9-ba01cc2f3803",
   "metadata": {},
   "source": [
    "## 2.2. Conjunctive query & Ranking score"
   ]
  },
  {
   "cell_type": "markdown",
   "id": "2af9dad0-bee2-4bba-b7ac-49e66b691aa2",
   "metadata": {},
   "source": [
    "We now want to improve the engine by adding a ranking for the search results based on some similarity with the query. For this purpose we will consider every document as a vector in which the elements are the tfIdf scores of every word in the document.\n",
    "\n",
    "We start by building the new inverted index, which will now consist of a dicionary fo the form:\n",
    "```\n",
    "{\n",
    "term_id_1:[(document1, tfIdf_{term,document1}), (document2, tfIdf_{term,document2}), (document4, tfIdf_{term,document4}), ...],\n",
    "term_id_2:[(document1, tfIdf_{term,document1}), (document3, tfIdf_{term,document3}), (document5, tfIdf_{term,document5}), (document6, tfIdf_{term,document6}), ...],\n",
    "...}\n",
    "\n",
    "```"
   ]
  },
  {
   "cell_type": "code",
   "execution_count": 62,
   "id": "474bce1a-73f9-4edc-ad00-b812cb49f60b",
   "metadata": {},
   "outputs": [
    {
     "name": "stderr",
     "output_type": "stream",
     "text": [
      "Retrieving tsv: 100%|██████████| 19128/19128 [00:07<00:00, 2608.51it/s]\n",
      "Preprocessing documents: 100%|██████████| 19128/19128 [03:31<00:00, 90.39it/s] \n",
      "Ranked inverted index generation: 100%|██████████| 19128/19128 [00:02<00:00, 6879.75it/s] \n"
     ]
    }
   ],
   "source": [
    "ranked_inverted_index_generation()"
   ]
  },
  {
   "cell_type": "markdown",
   "id": "55e8488c-7fe7-4a3e-bd4a-db016ab8bfbb",
   "metadata": {},
   "source": [
    "Just as the vocabulary, our inverted index is saved in a json file, and we will read it as part of the search engine initialization. The intersection algorithm will be a specular version of the previous one, we just adapted it to the new data types. The similarity between the document and the query will be given by\n",
    "\n",
    "\\begin{equation}\n",
    "\\frac{\\mathbf q \\cdot \\mathbf v }{\\| \\mathbf v \\|}\n",
    "\\end{equation}\n",
    "\n",
    "where $\\mathbf q$ and $ \\mathbf v$ are the tfidf vectors of the query and the document (respectively). For this purpose, in the previous function we also generated a dictionary of all the tfidf vectors and we saved it on the disk.\n",
    "\n",
    "We are now ready to initialize our search engine. What this does is loading the inverted index, the vocabulary and the tfidf vector of every document in memory to have them ready for the search."
   ]
  },
  {
   "cell_type": "code",
   "execution_count": 7,
   "id": "5dd0e6ae-cec3-403d-bd58-7aada6a002a4",
   "metadata": {},
   "outputs": [],
   "source": [
    "## YOU NEED TO EXECUTE THIS ONLY ONCE\n",
    "vocabulary, ranked_inverted_index, tfidf_vectors, total_documents = ranked_search_engine_initialization()"
   ]
  },
  {
   "cell_type": "markdown",
   "id": "70649e46-a841-4f12-8588-fcee291da2cd",
   "metadata": {},
   "source": [
    "And we are now ready to search for some anime!"
   ]
  },
  {
   "cell_type": "code",
   "execution_count": 8,
   "id": "ab09a0b2-c673-4208-9592-43e56b706711",
   "metadata": {},
   "outputs": [
    {
     "name": "stdin",
     "output_type": "stream",
     "text": [
      "Input a query: saiyan race\n"
     ]
    },
    {
     "name": "stdout",
     "output_type": "stream",
     "text": [
      "\n"
     ]
    },
    {
     "data": {
      "text/html": [
       "<table border=\"1\" class=\"dataframe\">\n",
       "  <thead>\n",
       "    <tr style=\"text-align: right;\">\n",
       "      <th>animeTitle</th>\n",
       "      <th>animeDescription</th>\n",
       "      <th>Url</th>\n",
       "      <th>Similarity</th>\n",
       "    </tr>\n",
       "  </thead>\n",
       "  <tbody>\n",
       "    <tr>\n",
       "      <td>Dragon Ball Z Special 1: Tatta Hitori no Saishuu Kessen</td>\n",
       "      <td>Bardock, Son Goku's father, is a low-ranking Saiyan soldier who was given the power to see into the future by the last remaining alien on a planet he just destroyed. He witnesses the destruction of his race and must now do his best to stop Frieza's impending massacre.  (Source: ANN)</td>\n",
       "      <td>https://myanimelist.net/anime/986/Dragon_Ball_Z_Special_1__Tatta_Hitori_no_Saishuu_Kessen</td>\n",
       "      <td>0.554850</td>\n",
       "    </tr>\n",
       "    <tr>\n",
       "      <td>Dragon Ball Super: Broly</td>\n",
       "      <td>Forty-one years ago on Planet Vegeta, home of the infamous Saiyan warrior race, King Vegeta noticed a baby named Broly whose latent power exceeded that of his own son. Believing that Broly's power would one day surpass that of his child, Vegeta, the king sends Broly to the desolate planet Vampa. Broly's father Paragus follows after him, intent on rescuing his son. However, his ship gets damaged, causing the two to spend years trapped on the barren world, unaware of the salvation that would one day come from an unlikely ally.  Years later on Earth, Gokuu Son and Prince Vegeta—believed to be the last survivors of the Saiyan race—are busy training on a remote island. But their sparring is interrupted when the appearance of their old enemy Frieza drives them to search for the last of the wish-granting Dragon Balls on a frozen continent. Once there, Frieza shows off his new allies: Paragus and the now extremely powerful Broly. A legendary battle that shakes the foundation of the world ensues as Gokuu and Vegeta face off against Broly, a warrior without equal whose rage is just waiting to be unleashed.  [Written by MAL Rewrite]</td>\n",
       "      <td>https://myanimelist.net/anime/36946/Dragon_Ball_Super__Broly</td>\n",
       "      <td>0.341980</td>\n",
       "    </tr>\n",
       "    <tr>\n",
       "      <td>Dragon Ball Z</td>\n",
       "      <td>Five years after winning the World Martial Arts tournament, Gokuu is now living a peaceful life with his wife and son. This changes, however, with the arrival of a mysterious enemy named Raditz who presents himself as Gokuu's long-lost brother. He reveals that Gokuu is a warrior from the once powerful but now virtually extinct Saiyan race, whose homeworld was completely annihilated. When he was sent to Earth as a baby, Gokuu's sole purpose was to conquer and destroy the planet; but after suffering amnesia from a head injury, his violent and savage nature changed, and instead was raised as a kind and well-mannered boy, now fighting to protect others.  With his failed attempt at forcibly recruiting Gokuu as an ally, Raditz warns Gokuu's friends of a new threat that's rapidly approaching Earth—one that could plunge Earth into an intergalactic conflict and cause the heavens themselves to shake. A war will be fought over the seven mystical dragon balls, and only the strongest will survive in Dragon Ball Z.  [Written by MAL Rewrite]</td>\n",
       "      <td>https://myanimelist.net/anime/813/Dragon_Ball_Z</td>\n",
       "      <td>0.233947</td>\n",
       "    </tr>\n",
       "    <tr>\n",
       "      <td>Dragon Ball Kai</td>\n",
       "      <td>Five years after the events of Dragon Ball, martial arts expert Gokuu is now a grown man married to his wife Chi-Chi, with a four-year old son named Gohan. While attending a reunion on Turtle Island with his old friends Master Roshi, Krillin, Bulma and others, the festivities are interrupted when a humanoid alien named Raditz not only reveals the truth behind Gokuu's past, but kidnaps Gohan as well.  With Raditz displaying power beyond anything Gokuu has seen before, he is forced to team up with his old nemesis, Piccolo, in order to rescue his son. But when Gokuu and Piccolo reveal the secret of the seven mystical wish-granting Dragon Balls to Raditz, he informs the duo that there is more of his race, the Saiyans, and they won’t pass up an opportunity to seize the power of the Dragon Balls for themselves.  These events begin the saga of Dragon Ball Kai, a story that finds Gokuu and his friends and family constantly defending the galaxy from increasingly more powerful threats. Bizarre, comical, heartwarming and threatening characters come together in a series of battles that push the powers and abilities of Gokuu and his friends beyond anything they have ever experienced.</td>\n",
       "      <td>https://myanimelist.net/anime/6033/Dragon_Ball_Kai</td>\n",
       "      <td>0.190423</td>\n",
       "    </tr>\n",
       "  </tbody>\n",
       "</table>"
      ],
      "text/plain": [
       "<IPython.core.display.HTML object>"
      ]
     },
     "metadata": {},
     "output_type": "display_data"
    }
   ],
   "source": [
    "ranked_search(vocabulary, ranked_inverted_index, tfidf_vectors, total_documents, k = 5)"
   ]
  },
  {
   "cell_type": "markdown",
   "id": "c59aa17a-6331-441c-8c43-4f2b476229ff",
   "metadata": {},
   "source": [
    "As we can see, the results are now ranked by this measure of similarity between documents. The rank though, does not seem very satisfying to us, since the first place contains a special of the main anime, which is ranked third. This fact will be of guidance for the next exercise."
   ]
  },
  {
   "cell_type": "markdown",
   "id": "e678a561-8d39-44c1-bcb3-c31187bb391a",
   "metadata": {},
   "source": [
    "# 3. Define a new score!"
   ]
  },
  {
   "cell_type": "markdown",
   "id": "cdd7ddd9-ccc8-437e-adad-cd49133c15a9",
   "metadata": {},
   "source": [
    "At this point, since we have so many informations on each anime, we would like to be able to use more of them to achieve better search results. Before explaining our choices we wanto to make a remark: looking at the data we noticed that the informations were not all mutually independent, specifically we noticed that the anime are ranked in decreasing order of Score; we made the same hypotesis about the popularity and the number of members, but it seems only weakly verified (the ordering is not strictly preserved but is of by a small number of members, we think it is because of some delay between the update of the number of members and the update of the popularity in the site).\n",
    "\n",
    "Having made these two remarks, we decided to only use the informations on the score, the popularity and the type of every anime. The informations about the aired dates seemed hard to use effectively without implementing an explicit filter, and the number of users did not seem useful to our purpose. We thought about using the anime related informations in a page rank fashion but we ended up discarding the idea to not add too much \"randomness\" to our formulas.\n",
    "\n",
    "We also decided to treat the title, the characters names, the voices names and the staff names just like the description, so we ended up using 8 of the 15 (not independent) information we retrieved about every anime. Here is a summary of what we did:\n",
    "1. We built a new vocabuary and inverted index based on the description, characters names, voices names and staff names\n",
    "2. We assigned a custom popularity score to each anime\n",
    "3. Given a query, we search for all the documents that have at least one word in common with the query\n",
    "4. We rank these last results using a custom index that is based on the similarity and on the previously mentioned popularity score"
   ]
  },
  {
   "cell_type": "markdown",
   "id": "d79b5e47-d149-44ad-abfc-8963d57793b0",
   "metadata": {},
   "source": [
    "We start with the first point: because most titles are not in english, we thought that the stemmer could return unexpected results and we changed the way we preprocess the documents. What we do is:\n",
    "1. Regex tokenization (to tokenize and remove punctuation all at once)\n",
    "2. Convert every token to lowercase\n",
    "3. Stopwords removal (according to NLTK stopwords library for the english language)\n",
    "4. Tag each word using the NLTK tagger\n",
    "5. Lemmatize the couple (word, tag) using WordNet Lemmatizer"
   ]
  },
  {
   "cell_type": "markdown",
   "id": "76ddc351-4d26-4dd9-ab98-f4f84645ec83",
   "metadata": {},
   "source": [
    "Because the lemmatizer is based on an actual database of words, we thought that the japanese titles would have a higher chance of survival than with the stemming. Here is an example:"
   ]
  },
  {
   "cell_type": "code",
   "execution_count": 11,
   "id": "7adcc686-33dc-454e-a199-15f964aee3dd",
   "metadata": {},
   "outputs": [
    {
     "data": {
      "text/plain": [
       "['sample',\n",
       " 'text',\n",
       " 'word',\n",
       " 'tokenized',\n",
       " 'lemmatized',\n",
       " 'title',\n",
       " 'ginga',\n",
       " 'eiyuu',\n",
       " 'densetsu',\n",
       " 'leave',\n",
       " 'untouched']"
      ]
     },
     "execution_count": 11,
     "metadata": {},
     "output_type": "execute_result"
    }
   ],
   "source": [
    "lemmatization_preprocessing('Sample text\\n These words will be tokenized and lemmatized\\n The title Ginga Eiyuu Densetsu is left untouched!')"
   ]
  },
  {
   "cell_type": "markdown",
   "id": "086ce54f-29b2-437e-ac77-0f9659b6a2cb",
   "metadata": {},
   "source": [
    "We start, as usual, by building a new vocabulary of words based on all the textual informations that we have. We will save it to the disk and retrieve it as needed."
   ]
  },
  {
   "cell_type": "code",
   "execution_count": 140,
   "id": "873a60d1-cb7d-482b-85af-5923e8fafa8c",
   "metadata": {},
   "outputs": [
    {
     "name": "stderr",
     "output_type": "stream",
     "text": [
      "Retrieving tsv: 100%|██████████| 19128/19128 [00:08<00:00, 2311.17it/s]\n",
      "Retrieving tsv: 100%|██████████| 19128/19128 [00:06<00:00, 3039.95it/s]\n",
      "Retrieving tsv: 100%|██████████| 19128/19128 [00:06<00:00, 3020.09it/s]\n",
      "Retrieving tsv: 100%|██████████| 19128/19128 [00:06<00:00, 3099.35it/s]\n",
      "Retrieving tsv: 100%|██████████| 19128/19128 [00:06<00:00, 2898.71it/s]\n",
      "Preprocessing documents: 100%|██████████| 19128/19128 [04:29<00:00, 71.01it/s] \n",
      "Preprocessing documents: 100%|██████████| 19128/19128 [00:20<00:00, 947.15it/s] \n",
      "Preprocessing documents: 100%|██████████| 19128/19128 [00:30<00:00, 630.71it/s] \n",
      "Preprocessing documents: 100%|██████████| 19128/19128 [00:28<00:00, 670.66it/s] \n",
      "Preprocessing documents: 100%|██████████| 19128/19128 [00:19<00:00, 959.20it/s] \n"
     ]
    }
   ],
   "source": [
    "titles_descriptions_vocabulary_generation()"
   ]
  },
  {
   "cell_type": "markdown",
   "id": "b6f7f99a-129a-493b-aede-8d8ef100441f",
   "metadata": {},
   "source": [
    "We wanted the user to be able to choose if he's searching for a specific anime or if he wants to do a broader search, so we had to keep the description separated from the other textual informations. Because of this, we created a tfidf vector for the descriptions, and a tfidf vector for the other informations (title, characters, voices and staff names; we will sometimes call this vector \"partial\" or just \"titles\"). Since we keep the tfidfs separated, we built an unranked inverted index (in the exact same way as the first search engine) and we stored it as a list of lists (we still adopt the universal 0 document convention that we established before). We saved these three objects in three distinct json files, to retrieve them when needed."
   ]
  },
  {
   "cell_type": "code",
   "execution_count": 339,
   "id": "59858a8a-10ed-48e7-9b4f-c0242c827b5e",
   "metadata": {},
   "outputs": [
    {
     "name": "stderr",
     "output_type": "stream",
     "text": [
      "Retrieving tsv: 100%|██████████| 19128/19128 [00:04<00:00, 4032.32it/s]\n",
      "Retrieving tsv: 100%|██████████| 19128/19128 [00:04<00:00, 4466.58it/s]\n",
      "Retrieving tsv: 100%|██████████| 19128/19128 [00:04<00:00, 4560.52it/s]\n",
      "Retrieving tsv: 100%|██████████| 19128/19128 [00:04<00:00, 4531.45it/s]\n",
      "Retrieving tsv: 100%|██████████| 19128/19128 [00:04<00:00, 4231.51it/s]\n",
      "Preprocessing documents: 100%|██████████| 19128/19128 [03:47<00:00, 84.26it/s] \n",
      "Preprocessing documents: 100%|██████████| 19128/19128 [00:21<00:00, 904.74it/s] \n",
      "Preprocessing documents: 100%|██████████| 19128/19128 [00:31<00:00, 614.76it/s] \n",
      "Preprocessing documents: 100%|██████████| 19128/19128 [00:29<00:00, 649.66it/s] \n",
      "Preprocessing documents: 100%|██████████| 19128/19128 [00:20<00:00, 924.47it/s] \n",
      "Building the inverted index: 100%|██████████| 19128/19128 [00:02<00:00, 7698.43it/s] \n",
      "TfIdf vectors generation: 100%|██████████| 19128/19128 [00:02<00:00, 6712.85it/s] \n"
     ]
    }
   ],
   "source": [
    "titles_descriptions_inverted_index_generation()"
   ]
  },
  {
   "cell_type": "markdown",
   "id": "112fbefa-c32a-4ced-a0b1-aba68259b3e9",
   "metadata": {},
   "source": [
    "We the proceeded to retrieve the other information that we wanted to use about the anime from the disk, specifically we retrieve for each anime:\n",
    "* The Score\n",
    "* The rank of Popularity\n",
    "* The Type\n",
    "\n",
    "Since Score (float in $[2,10]$) and rank of Popularity (integer in $[1,19128]$) are on totally different scales, we decided to normalize them in the interval $(0,1)$ in the following way:\n",
    "* $newScore\\ =\\ f(Score,\\ 10)$\n",
    "* $newPopularity\\ =\\ f(19129-Popularity,\\ 19128)$\n",
    "where $f(x,m)$ is a function that squeezes (with respect to $x$) the interval $(0,m)$ in the interval $(0,1)$ in a nonlinear way near the borders (it gives the same weight to higher scores). We plot $f(x,1)$ below, see the implementation in the library `custom_search_engine.py`, in the function `anime_scoring_info_creation()` for the actual functional form of $f$."
   ]
  },
  {
   "cell_type": "code",
   "execution_count": 22,
   "id": "5953da1f-a845-40cb-8e68-54370f5d0994",
   "metadata": {},
   "outputs": [
    {
     "data": {
      "image/png": "[encoded data removed]",
      "text/plain": [
       "<Figure size 432x288 with 1 Axes>"
      ]
     },
     "metadata": {
      "needs_background": "light"
     },
     "output_type": "display_data"
    }
   ],
   "source": [
    "np.seterr(all=\"ignore\")\n",
    "x = np.linspace(0,1,1000)\n",
    "plt.plot(x, bump_function(x, max = 1))\n",
    "plt.show()"
   ]
  },
  {
   "cell_type": "markdown",
   "id": "04fbb21e-3a59-4a86-8ae7-7c73efc0315e",
   "metadata": {},
   "source": [
    "Once we obtain these new two scores, we save them to the disk along with the anime type:"
   ]
  },
  {
   "cell_type": "code",
   "execution_count": 168,
   "id": "c9b83e7f-482d-4890-9daf-a102656f2ef6",
   "metadata": {},
   "outputs": [
    {
     "name": "stderr",
     "output_type": "stream",
     "text": [
      "Retrieving tsv: 100%|██████████| 19128/19128 [00:06<00:00, 2859.34it/s]\n",
      "Retrieving tsv: 100%|██████████| 19128/19128 [00:04<00:00, 4199.38it/s]\n",
      "Retrieving tsv: 100%|██████████| 19128/19128 [00:03<00:00, 4787.86it/s]\n"
     ]
    }
   ],
   "source": [
    "anime_scoring_info_creation()"
   ]
  },
  {
   "cell_type": "markdown",
   "id": "a82d3208-c580-4a05-9ccc-2391dc1cb81d",
   "metadata": {},
   "source": [
    "Before starting the search, we give some more details about the actual implementation and the rankings. Once we retrieve all the documents that have at least one word in common with the query (see `union_pointers()` in `custom_search_engine.py` for the actual implementation of the union algorithm), we proceed to calculate the tfidf vector associated with the document in the following way:\n",
    "\n",
    "$$tfidf_{document}(word) = \\alpha * tfidf_{title}(word)+(1-\\alpha) * tfidf_{description}(word)$$\n",
    "\n",
    "where $tfidf_{title}(word)$ is the tfidf of a word seen as part of the title (and characters, etc..) document and $tfidf_{description}(word)$ is the tfidf of a word seen as part of the description document (where a tfidf is 0 if the word isn't in the document), and $\\alpha$ is a parameter chosen by the user.\n",
    "\n",
    "We then compute the cosine similarity (here we take into account the norm of the query too, because we want a result smaller than 1) between the query and this new tfidf vector. Having run some trials, we noticed that the similarity gave a lot of priority to documents with brief descriptions (as for these documents the tf comes out higher than for longer documents); the tfidf is better suited to work with large documents (for which the term frequency is more meaningful). To overcome this last problem we renormalize the final similarity with a number that depends on the length of the document; the functional form is an arch of ellipse, we choose the parameters with some trials and errors. You can look at the details in `description_titles_cosine_similarity()` inside `custom_search_engine.py`, here we limit ourselves to a simple plot:"
   ]
  },
  {
   "cell_type": "code",
   "execution_count": 26,
   "id": "f8a8237a-cf47-4d1e-bd0c-f80c30a92513",
   "metadata": {},
   "outputs": [
    {
     "data": {
      "image/png": "[encoded data removed]",
      "text/plain": [
       "<Figure size 432x288 with 1 Axes>"
      ]
     },
     "metadata": {
      "needs_background": "light"
     },
     "output_type": "display_data"
    }
   ],
   "source": [
    "def ellipse (x):\n",
    "    f = -20 * np.sqrt(1-0.000209*(x-70)**2)+21\n",
    "    return(f)\n",
    "\n",
    "x = np.linspace(1,69,1000)\n",
    "plt.plot(x, ellipse(x))\n",
    "plt.xlabel('number of words in the document')\n",
    "plt.ylabel('renormalization factor')\n",
    "plt.show()"
   ]
  },
  {
   "cell_type": "markdown",
   "id": "546fd53c-7013-4609-b4d8-f3fe44d01917",
   "metadata": {},
   "source": [
    "After computing this new similarity score, we do two last modification to obtain the final score. Firstly we define for each anime the popularity ranking score as the average of the popularity and the rank score defined above; then we compute:\n",
    "\n",
    "$$score = similarity * ( 1.5 - \\alpha ) + PopularityRankingScore * \\alpha$$\n",
    "where $\\alpha$ is another parameter chosen by the user. Finally, we let the user enter a preference for the anime type, and we increase the final score by a fixed percentage if the anime matches the desired type (see the global variable `type_modifier` inside `custom_search_engine.py` for the exact number).\n",
    "\n",
    "We are now ready to initialize the search engine:"
   ]
  },
  {
   "cell_type": "code",
   "execution_count": 9,
   "id": "2c6610d0-5043-4867-b6be-bab636c48483",
   "metadata": {},
   "outputs": [],
   "source": [
    "custom_vocabulary, inverted_index, description_tf_idf, partial_tf_idf, anime_scoring_info, parameters_list, total_documents = custom_search_engine_initialization()"
   ]
  },
  {
   "cell_type": "markdown",
   "id": "bbecab5d-e36e-45c5-af35-9cdc53eabc37",
   "metadata": {},
   "source": [
    "And here we can customize the engine parameters:"
   ]
  },
  {
   "cell_type": "code",
   "execution_count": 5,
   "id": "55bb392e-42af-471c-a28b-19a856380ecd",
   "metadata": {},
   "outputs": [
    {
     "name": "stdout",
     "output_type": "stream",
     "text": [
      "Hi! Here you can tune some search engine parameters to fit your search needings.\n",
      "\n"
     ]
    },
    {
     "name": "stdin",
     "output_type": "stream",
     "text": [
      "Do you want to have a detailed explanation of the role of every parameter? (Y/n) y\n"
     ]
    },
    {
     "name": "stdout",
     "output_type": "stream",
     "text": [
      "To compute the final tfidf vector associated to the document we computed two separate tfidf vectors: one for the description and one for the titles, characters, voices and staff; and we combined the tfidf for each word according to the following formula:\n",
      " final_tfidf = alpha * title_tfidf + (1 - alpha) * description_tfidf\n",
      " where title_tfidf is the tfidf of the word in the titles, characters, voices and staff texts, and description_tfidf is the tfidf of the word in the description text. The parameter we ask you to choose is the alpha in the above formula, and it represents the weight of the titles texts in the final computation for the cosine similarity.\n",
      " alpha = 1 will give max priority to words in the query that match a word in titles, characters, voices and staff texts\n",
      " alpha = 0 will give max priority to words in the query that match a word in the description\n",
      " Thus by varying this parameter you will be able to decide if you search for a specific anime (alpha near 1), or if you want to do a more generic search (alpha near 0).\n",
      " NOTE: We will automatically renormalize your score in (0.1, 0.9) as choosing too extreme values can lead to unexpected behaviours.\n",
      "\n"
     ]
    },
    {
     "name": "stdin",
     "output_type": "stream",
     "text": [
      "Are you searching for a specific anime or you want something generic that fits your query?\n",
      " Input a number in [0,1] where 0 is generic and 1 is specific:  0.9\n"
     ]
    },
    {
     "name": "stdout",
     "output_type": "stream",
     "text": [
      "After computing the cosine similarity based on the parameter above, we convolute the similarity with a specific score that is based on the popularity of the anime according to the following:\n",
      " final_score = similarity * ( 1.5 - alpha ) + popularity_ranking_score * alpha\n",
      " where the popularity_ranking_score is computed starting from the animePopularity and animeScore in the data in the following way:\n",
      " rank_score = f(animeScore, 10)\n",
      " popularity_score = f(19129 - animePopularity, 19128)\n",
      " where f(x,m) is a certain smooth function that squeezes all the numbers in (0,m) in the interval (0,1) in a nonlinear way near the borders.\n",
      " See the implementation in the library custom_search_engine.py, in anime_scoring_info_creation() for more details about the function.\n",
      " After obtaining the rank_score and the popularity_score, we compute the final rank as a simple average:\n",
      " popularity_ranking_score = (popularity_score + rank_score)/2\n",
      " The parameter we ask you to choose is the alpha in the above formula, and it represents the weight of the popularity and the rank of each anime in the classification.\n",
      " alpha = 1 will give max priority to popularity and rank, sending up in the final classification the most popular anime\n",
      " alpha = 0 will give no priority to popularity and rank, letting the cosine similarity choose the classification\n",
      " NOTE: We will automatically renormalize your score in (0.1, 0.9) as choosing too extreme values can lead to unexpected behaviours.\n",
      " NOTE: Whatever you choose as the parameter, the final classification WILL be influenced by the rank and popularity of the anime. This is an intended choice and it\n",
      " reflects the assumption that anime which are not popular nor ranked high are probably of low quality in general and would not be searched much.\n",
      " Thus by varying this parameter you will be able to decide if you prefer to have popular anime (alpha near 1) or high ranked anime (alpha near 0) in your search results.\n"
     ]
    },
    {
     "name": "stdin",
     "output_type": "stream",
     "text": [
      "Would you like to rank the anime based on their popularity or based on their score?\n",
      " Input a number in [0,1] where 0 is rank by popularity and 1 is rank by score:  0.9\n"
     ]
    },
    {
     "name": "stdout",
     "output_type": "stream",
     "text": [
      "Here we ask you to specify if you prefer a specific type of anime among the following:\n",
      " Movie, Music, ONA, OVA, Special, TV\n",
      " This is an important choice since most of the anime that are not TV are special or side stories of a TV one.\n",
      " This will allow you to filter out some of the secondary story anime or to search specifically for them.\n",
      " The ranking boost works in this way: given a final similarity score, if the anime type coincides with the desired one\n",
      " the score will be increased by a fixed percentage (see the global variable type_modifier in the library custom_search_engine.py).\n",
      " NOTE: if you choose All or if you type an incorrect anime type, we will not take into account at all the type of the anime in the final score.\n"
     ]
    },
    {
     "name": "stdin",
     "output_type": "stream",
     "text": [
      "Are you searching for a specific anime Type? Choose among the following:\n",
      "Movie, Music, ONA, OVA, Special, TV, All\n",
      " tv\n"
     ]
    },
    {
     "name": "stdout",
     "output_type": "stream",
     "text": [
      "The parameter you just chose are passed to the search engine as a list:\n",
      " [isSpecific, Type, popularity_relevance]\n",
      " With this knowledge you can edit these parameters directly if you wish, and you can also bypass the restriction of the numerical parameters being in (0.1, 0.9).\n",
      " This last thing can bring unexpected results, experiment freely with this in mind.\n",
      "\n"
     ]
    }
   ],
   "source": [
    "parameters_list = search_engine_customization()"
   ]
  },
  {
   "cell_type": "code",
   "execution_count": 10,
   "id": "1988dfc4-e285-4c55-9e0a-ccbcff7dd21a",
   "metadata": {},
   "outputs": [
    {
     "name": "stdin",
     "output_type": "stream",
     "text": [
      "Input a query: saiyan race\n"
     ]
    },
    {
     "name": "stdout",
     "output_type": "stream",
     "text": [
      "\n"
     ]
    },
    {
     "data": {
      "text/html": [
       "<table border=\"1\" class=\"dataframe\">\n",
       "  <thead>\n",
       "    <tr style=\"text-align: right;\">\n",
       "      <th>animeTitle</th>\n",
       "      <th>animeDescription</th>\n",
       "      <th>animeType</th>\n",
       "      <th>animeScore</th>\n",
       "      <th>animePopularity</th>\n",
       "      <th>Url</th>\n",
       "      <th>Custom score</th>\n",
       "    </tr>\n",
       "  </thead>\n",
       "  <tbody>\n",
       "    <tr>\n",
       "      <td>Dragon Ball Z Movie 14: Kami to Kami</td>\n",
       "      <td>Following the defeat of a great adversary, Gokuu Son and his friends live peaceful lives on Earth. Meanwhile, in space, Beerus the God of Destruction awakens from his long slumber, having dreamed of an entity known as a Super Saiyan God. With the help of his assistant, Whis, Beerus looks for this powerful being, as he wishes to fight a worthy opponent. After discovering that the Saiyan home planet was destroyed, he tracks down the remaining Saiyans on Earth, looking for Gokuu specifically.  Having only heard of the Super Saiyan God in legends, Gokuu and his comrades summon Shen Long the Eternal Dragon, who they find out is afraid of Beerus. After learning the secret of the Super Saiyan God, an intense battle between Gokuu and Beerus commences, the immense power of which puts the Earth in terrible danger.  [Written by MAL Rewrite]</td>\n",
       "      <td>Movie</td>\n",
       "      <td>7.39</td>\n",
       "      <td>987</td>\n",
       "      <td>https://myanimelist.net/anime/14837/Dragon_Ball_Z_Movie_14__Kami_to_Kami</td>\n",
       "      <td>0.737447</td>\n",
       "    </tr>\n",
       "    <tr>\n",
       "      <td>Dragon Ball Z Special 1: Tatta Hitori no Saishuu Kessen</td>\n",
       "      <td>Bardock, Son Goku's father, is a low-ranking Saiyan soldier who was given the power to see into the future by the last remaining alien on a planet he just destroyed. He witnesses the destruction of his race and must now do his best to stop Frieza's impending massacre.  (Source: ANN)</td>\n",
       "      <td>Special</td>\n",
       "      <td>7.55</td>\n",
       "      <td>1785</td>\n",
       "      <td>https://myanimelist.net/anime/986/Dragon_Ball_Z_Special_1__Tatta_Hitori_no_Saishuu_Kessen</td>\n",
       "      <td>0.709900</td>\n",
       "    </tr>\n",
       "    <tr>\n",
       "      <td>Dragon Ball Z Movie 08: Moetsukiro!! Nessen, Ressen, Chougekisen</td>\n",
       "      <td>As Goku investigates the destruction of the Southern Galaxy, Vegeta is taken to be King of the New Planet Vegeta, and to destroy the Legendary Super Saiyan, Broly.  (Source: ANN)</td>\n",
       "      <td>Movie</td>\n",
       "      <td>7.32</td>\n",
       "      <td>1271</td>\n",
       "      <td>https://myanimelist.net/anime/901/Dragon_Ball_Z_Movie_08__Moetsukiro_Nessen_Ressen_Chougekisen</td>\n",
       "      <td>0.685352</td>\n",
       "    </tr>\n",
       "    <tr>\n",
       "      <td>Initial D Battle Stage</td>\n",
       "      <td>There are many street races in the Initial D Series. This OVA has no plot other than to collect all the street races into one stage. The dialog during the original races is left in.</td>\n",
       "      <td>OVA</td>\n",
       "      <td>7.56</td>\n",
       "      <td>3228</td>\n",
       "      <td>https://myanimelist.net/anime/821/Initial_D_Battle_Stage</td>\n",
       "      <td>0.672249</td>\n",
       "    </tr>\n",
       "    <tr>\n",
       "      <td>Dragon Ball Z Movie 10: Kiken na Futari! Super Senshi wa Nemurenai</td>\n",
       "      <td>After his loss to Goku, Broly crash lands and hibernates on earth. After some time, he is awakened by Trunks and Goten, who Broly believes is Kakarott, and goes on a rampage to kill both of them. At the same time, Gohan is on his way to challenge the Legendary Super Saiyan alone.</td>\n",
       "      <td>Movie</td>\n",
       "      <td>6.79</td>\n",
       "      <td>1466</td>\n",
       "      <td>https://myanimelist.net/anime/903/Dragon_Ball_Z_Movie_10__Kiken_na_Futari_Super_Senshi_wa_Nemurenai</td>\n",
       "      <td>0.611405</td>\n",
       "    </tr>\n",
       "  </tbody>\n",
       "</table>"
      ],
      "text/plain": [
       "<IPython.core.display.HTML object>"
      ]
     },
     "metadata": {},
     "output_type": "display_data"
    }
   ],
   "source": [
    "custom_search(custom_vocabulary, inverted_index, description_tf_idf, partial_tf_idf, total_documents, anime_scoring_info, parameters_list, k = 5)"
   ]
  },
  {
   "cell_type": "markdown",
   "id": "4a78314b-f3fb-4244-8a6b-1178163a30b8",
   "metadata": {},
   "source": [
    "## Search engine comparisons"
   ]
  },
  {
   "cell_type": "markdown",
   "id": "37685292-150c-46a8-8ff8-e83678b68a27",
   "metadata": {},
   "source": [
    "Here we perform some comparisons between the our custom search engine and the ranked search engine we built before.\n",
    "\n",
    "As a first example, by searching the top 3 for the query `naruto` we see that the ranked search gives only 2 anime about naruto, the first one and the third one, but neither is the TV series (which is the most popular). On the other hand the custom search, tuned by popularity, gives back the two main series in the first 3 places."
   ]
  },
  {
   "cell_type": "code",
   "execution_count": 12,
   "id": "4b76b9ba-c0cb-4a6b-9c8f-abd077164f27",
   "metadata": {},
   "outputs": [
    {
     "name": "stdin",
     "output_type": "stream",
     "text": [
      "Input a query: naruto\n"
     ]
    },
    {
     "name": "stdout",
     "output_type": "stream",
     "text": [
      "\n"
     ]
    },
    {
     "data": {
      "text/html": [
       "<table border=\"1\" class=\"dataframe\">\n",
       "  <thead>\n",
       "    <tr style=\"text-align: right;\">\n",
       "      <th>animeTitle</th>\n",
       "      <th>animeDescription</th>\n",
       "      <th>Url</th>\n",
       "      <th>Similarity</th>\n",
       "    </tr>\n",
       "  </thead>\n",
       "  <tbody>\n",
       "    <tr>\n",
       "      <td>Naruto: Shippuuden - Shippuu! \"Konoha Gakuen\" Den</td>\n",
       "      <td>Naruto school special.  Naruto is a new cool student and when he meets Sasuke they start fighting.</td>\n",
       "      <td>https://myanimelist.net/anime/4134/Naruto__Shippuuden_-_Shippuu_Konoha_Gakuen_Den</td>\n",
       "      <td>1.987909</td>\n",
       "    </tr>\n",
       "    <tr>\n",
       "      <td>Juliet</td>\n",
       "      <td>Based on the manga by U-Jin.  This is a story of two siblings, Anzu and Naruto Nozaki, heirs to the fabulous Nozaki fortune. Naruto appears to be an overbearing sis-con. In fact, he's madly in love with Anzu, because they're not blood-related. He confines her to the family mansion for \"security,\" depriving her of companionship and a real life. At age 16, she starts to rebel. She smuggles in a kitten as a pet (Naruto hates cats) and then escapes in a delivery truck. Naruto catches up to her and realizes that she can't be confined like a bird in a cage. He agrees to let have a normal life, but just then, tragedy strikes   (Source: Collectr)</td>\n",
       "      <td>https://myanimelist.net/anime/8993/Juliet</td>\n",
       "      <td>1.241344</td>\n",
       "    </tr>\n",
       "    <tr>\n",
       "      <td>Naruto: Shippuuden Movie 6 - Road to Ninja</td>\n",
       "      <td>Returning home to Konohagakure, the young ninja celebrate defeating a group of supposed Akatsuki members. Naruto Uzumaki and Sakura Haruno, however, feel differently. Naruto is jealous of his comrades' congratulatory families, wishing for the presence of his own parents. Sakura, on the other hand, is angry at her embarrassing parents, and wishes for no parents at all. The two clash over their opposing ideals, but are faced with a more pressing matter when the masked Madara Uchiha suddenly appears and transports them to an alternate world.  In this world, Sakura's parents are considered heroes—for they gave their lives to protect Konohagakure from the Nine-Tailed Fox attack 10 years ago. Consequently, Naruto's parents, Minato Namikaze and Kushina Uzumaki, are alive and well. Unable to return home or find the masked Madara, Naruto and Sakura stay in this new world and enjoy the changes they have always longed for. All seems well for the two ninja, until an unexpected threat emerges that pushes Naruto and Sakura to not only fight for the Konohagakure of the alternate world, but also to find a way back to their own.  [Written by MAL Rewrite]</td>\n",
       "      <td>https://myanimelist.net/anime/13667/Naruto__Shippuuden_Movie_6_-_Road_to_Ninja</td>\n",
       "      <td>1.159498</td>\n",
       "    </tr>\n",
       "  </tbody>\n",
       "</table>"
      ],
      "text/plain": [
       "<IPython.core.display.HTML object>"
      ]
     },
     "metadata": {},
     "output_type": "display_data"
    }
   ],
   "source": [
    "ranked_search(vocabulary, ranked_inverted_index, tfidf_vectors, total_documents, k = 3)"
   ]
  },
  {
   "cell_type": "code",
   "execution_count": 13,
   "id": "523cecd2-b549-4081-ab67-368534701d7b",
   "metadata": {},
   "outputs": [
    {
     "name": "stdin",
     "output_type": "stream",
     "text": [
      "Input a query: naruto\n"
     ]
    },
    {
     "name": "stdout",
     "output_type": "stream",
     "text": [
      "\n"
     ]
    },
    {
     "data": {
      "text/html": [
       "<table border=\"1\" class=\"dataframe\">\n",
       "  <thead>\n",
       "    <tr style=\"text-align: right;\">\n",
       "      <th>animeTitle</th>\n",
       "      <th>animeDescription</th>\n",
       "      <th>animeType</th>\n",
       "      <th>animeScore</th>\n",
       "      <th>animePopularity</th>\n",
       "      <th>Url</th>\n",
       "      <th>Custom score</th>\n",
       "    </tr>\n",
       "  </thead>\n",
       "  <tbody>\n",
       "    <tr>\n",
       "      <td>Naruto: Shippuuden</td>\n",
       "      <td>It has been two and a half years since Naruto Uzumaki left Konohagakure, the Hidden Leaf Village, for intense training following events which fueled his desire to be stronger. Now Akatsuki, the mysterious organization of elite rogue ninja, is closing in on their grand plan which may threaten the safety of the entire shinobi world.  Although Naruto is older and sinister events loom on the horizon, he has changed little in personality—still rambunctious and childish—though he is now far more confident and possesses an even greater determination to protect his friends and home. Come whatever may, Naruto will carry on with the fight for what is important to him, even at the expense of his own body, in the continuation of the saga about the boy who wishes to become Hokage.  [Written by MAL Rewrite]</td>\n",
       "      <td>TV</td>\n",
       "      <td>8.22</td>\n",
       "      <td>16</td>\n",
       "      <td>https://myanimelist.net/anime/1735/Naruto__Shippuuden</td>\n",
       "      <td>1.157615</td>\n",
       "    </tr>\n",
       "    <tr>\n",
       "      <td>Naruto: Shippuuden Movie 6 - Road to Ninja</td>\n",
       "      <td>Returning home to Konohagakure, the young ninja celebrate defeating a group of supposed Akatsuki members. Naruto Uzumaki and Sakura Haruno, however, feel differently. Naruto is jealous of his comrades' congratulatory families, wishing for the presence of his own parents. Sakura, on the other hand, is angry at her embarrassing parents, and wishes for no parents at all. The two clash over their opposing ideals, but are faced with a more pressing matter when the masked Madara Uchiha suddenly appears and transports them to an alternate world.  In this world, Sakura's parents are considered heroes—for they gave their lives to protect Konohagakure from the Nine-Tailed Fox attack 10 years ago. Consequently, Naruto's parents, Minato Namikaze and Kushina Uzumaki, are alive and well. Unable to return home or find the masked Madara, Naruto and Sakura stay in this new world and enjoy the changes they have always longed for. All seems well for the two ninja, until an unexpected threat emerges that pushes Naruto and Sakura to not only fight for the Konohagakure of the alternate world, but also to find a way back to their own.  [Written by MAL Rewrite]</td>\n",
       "      <td>Movie</td>\n",
       "      <td>7.67</td>\n",
       "      <td>640</td>\n",
       "      <td>https://myanimelist.net/anime/13667/Naruto__Shippuuden_Movie_6_-_Road_to_Ninja</td>\n",
       "      <td>1.154822</td>\n",
       "    </tr>\n",
       "    <tr>\n",
       "      <td>Naruto</td>\n",
       "      <td>Moments prior to Naruto Uzumaki's birth, a huge demon known as the Kyuubi, the Nine-Tailed Fox, attacked Konohagakure, the Hidden Leaf Village, and wreaked havoc. In order to put an end to the Kyuubi's rampage, the leader of the village, the Fourth Hokage, sacrificed his life and sealed the monstrous beast inside the newborn Naruto.  Now, Naruto is a hyperactive and knuckle-headed ninja still living in Konohagakure. Shunned because of the Kyuubi inside him, Naruto struggles to find his place in the village, while his burning desire to become the Hokage of Konohagakure leads him not only to some great new friends, but also some deadly foes.  [Written by MAL Rewrite]</td>\n",
       "      <td>TV</td>\n",
       "      <td>7.95</td>\n",
       "      <td>8</td>\n",
       "      <td>https://myanimelist.net/anime/20/Naruto</td>\n",
       "      <td>1.153523</td>\n",
       "    </tr>\n",
       "  </tbody>\n",
       "</table>"
      ],
      "text/plain": [
       "<IPython.core.display.HTML object>"
      ]
     },
     "metadata": {},
     "output_type": "display_data"
    }
   ],
   "source": [
    "parameters_list = [0.1, 'all', 0.9]\n",
    "custom_search(custom_vocabulary, inverted_index, description_tf_idf, partial_tf_idf, total_documents, anime_scoring_info, parameters_list, k = 3)"
   ]
  },
  {
   "cell_type": "markdown",
   "id": "534757f3-757e-4071-a912-b41107813cf2",
   "metadata": {},
   "source": [
    "From now on will omit the actual search to not fill the notebook with wall of text.\n",
    "\n",
    "We obtain similar result also by choosing as set of parameters: `[0.9, 'all', 0.1]`. In this last case the first ranked anime is Juliet, in which one of the characters is called Naruto as well, but the other two positions are occupied by the two main series.\n",
    "\n",
    "Setting `[0.1, 'all', 0.9]`, if we search for 'one piece', we retrieve the main serie along with two movies with our search engine, while the ranked search only found the two associated movies.\n",
    "\n",
    "One of the main advantages in using our search engine is the fact that we account for the title and the anime characters name, while the ranked search does not. This can bring to very different result, since one could wish to search by title."
   ]
  },
  {
   "cell_type": "markdown",
   "id": "2ba601b8-d4eb-4187-88c3-4d686a3a9a1a",
   "metadata": {},
   "source": [
    "# 4. BONUS: Understanding the anime's reviews\n",
    "We start by crawling the reviews pages from the web:"
   ]
  },
  {
   "cell_type": "code",
   "execution_count": null,
   "id": "3da7f5e7-9cf0-420a-ac07-d59336debc60",
   "metadata": {},
   "outputs": [],
   "source": [
    "total_reviews = reviews_crawl()"
   ]
  },
  {
   "cell_type": "markdown",
   "id": "2214a000-4928-4d15-9698-1635a0cae3c0",
   "metadata": {},
   "source": [
    "And then we parse them and we save them in various txt files:"
   ]
  },
  {
   "cell_type": "code",
   "execution_count": 2,
   "id": "7b3d597d-6285-42ca-aa34-8d4b5b651255",
   "metadata": {},
   "outputs": [
    {
     "name": "stderr",
     "output_type": "stream",
     "text": [
      "100%|██████████| 19128/19128 [42:09<00:00,  7.56it/s] \n"
     ]
    }
   ],
   "source": [
    "txt_gen()"
   ]
  },
  {
   "cell_type": "markdown",
   "id": "ee2c9132-d06d-418d-9661-f02a1eb695f7",
   "metadata": {},
   "source": [
    "and then we merge every review in one file for better file management (as it is hard to move around multiple smaller files)"
   ]
  },
  {
   "cell_type": "code",
   "execution_count": 2,
   "id": "8f09c9ca-da45-4aad-bebb-8e72c406b6e1",
   "metadata": {},
   "outputs": [
    {
     "name": "stderr",
     "output_type": "stream",
     "text": [
      "Retrieving txt: 100%|██████████| 19128/19128 [00:06<00:00, 3019.37it/s]\n"
     ]
    }
   ],
   "source": [
    "merge_txt()"
   ]
  },
  {
   "cell_type": "markdown",
   "id": "f81b54ff-ab39-44ba-badb-740ebd13ba25",
   "metadata": {},
   "source": [
    "To perform the sentiment analysis we followed the guide found in https://towardsdatascience.com/sentiment-analysis-in-10-minutes-with-bert-and-hugging-face-294e8a04b671"
   ]
  },
  {
   "cell_type": "markdown",
   "id": "2ac76590-d484-448a-8396-42559537b07a",
   "metadata": {},
   "source": [
    "We used the get_data function to get IMDB Reviews Dataset that contains 25,000 movie reviews for training and 25,000 for testing. All these 50,000 reviews are labeled. we downloaded the dataset from Stanford’s relevant directory `tf.keras.utils.get_file`. After getting the data we created 2 pandas dataset (train and test) from text_dataset_from_directory of tensorflow library. We had to convert the 2 pandas dataframe into objects that are suitable objects for the BERT model. We achieve this convertions using 2 functions `convert_data_to_examples()` and `convert_examples_to_tf_dataset()`. The first one converts every row of pandas dataframe into an InputExample object. The other one creates the required input format with the tokenized InputExample objects and then create an input dataset that we can feed to the model. We used a stochastic gradient descent method from tensorflow (https://www.tensorflow.org/api_docs/python/tf/keras/optimizers/Adam), using CategoricalCrossentropy as our loss function, and SparseCategoricalAccuracy. After this we retrieved the reviews, we tokenized them, and than we gave to the pretrained model and we run a final softmax layer to get the predictions, using the argmax to get if a review is positive or negative. We wrote the result as a dict {anime_id:(number of positive,number of negative)} and we saved it in the `review_sentiment_dict.txt`."
   ]
  },
  {
   "cell_type": "markdown",
   "id": "fba25180-5561-4b10-b53d-494ec8c4356a",
   "metadata": {},
   "source": [
    "## 5. Algorithmic question\n",
    "You consult for a personal trainer who has a *back-to-back sequence* of requests for appointments. A sequence of requests is of the form\n",
    "    > 30, 40, 25, 50, 30, 20\n",
    "where each number is the time that the person who makes the appointment wants to spend.\n",
    "You need to accept some requests, however you need a break between them, so you cannot accept two consecutive requests. For example, `[30, 50, 20]` is an acceptable solution (of duration *100*), but `[30, 40, 50, 20]` is not, because *30* and *40* are two consecutive appointments. Your goal is to provide to the personal trainer a schedule that maximizes the total length of the accepted appointments. For example, in the previous instance, the optimal solution is `[40, 50, 20]`, of total duration *110*.\n",
    "1. Write an algorithm that computes the acceptable solution with the longest possible duration.\n",
    "2. Implement a program that given in input an instance in the form given above, gives the optimal solution."
   ]
  },
  {
   "cell_type": "markdown",
   "id": "03795b2c-0c60-4ee7-ada0-3554651dab01",
   "metadata": {},
   "source": []
  },
  {
   "cell_type": "markdown",
   "id": "69eef430-afd8-4fed-a393-ae41b7224cbf",
   "metadata": {},
   "source": [
    "We start by making some remarks about the optimal solution. Let's suppose that, in a given day, the personal trainer receives $n$ requests $[r_1,r_2,\\dots,r_n]$, and let's define $S = [s_1, \\dots, s_k]$ as the (ordered) subset of appointments that will form our optimal solution for our problem in the given day.\n",
    "* An important observation is that, by definition, if $r_i$ is in the optimal solution, then neither $r_{i-1}$ nor $r_{i+1}$ belong to this solution. This is expression of the fact that we do not want to accept two consecutive appointments.\n",
    "* Another crucial observation that we want to make is that, given any couple of consecutive elements $r_i, r_j$ that are in the optimal solution, their distance is no more than $3$, i. e. $j-i\\leq 3$. I other words, given any three consecutive appointments of durations $r_i, r_{i+1}, r_{i+2}$, at least one of them is in the optimal solution. This fact is, in some sense, pretty intuitive, and it comes from the fact that our optimal solution is the longest possible, i.e. the one for which the quantity $\\sum s_j$ is maximized. The proof of this fact is trivial and we will just illustrate it with an example. Suppose that the followings are five consecutive appointments requested today: $[r_1,r_2,r_3,r_4,r_5]$ and assume that, among them, just $r_1,r_5$ are in the optimal solution; then, by adding $r_3$ to the solution we find another valid solution, which is longer than the optimal one, which is absurd.\n",
    "* Finally, from the two observation above, given any three consecutive elements $r_i, r_{i+1}, r_{i+2}$, either one or two of them belong to the optimal solution (three of them is not acceptable by the first remark, none of them is not acceptable by the second remark).\n",
    "\n",
    "One last note before starting: this problem may have more than one optimal solution, our algorithm returns just one of them but, with a bit fo work, can be generalized to find all the optimal solutions."
   ]
  },
  {
   "cell_type": "markdown",
   "id": "b48c6230-f531-45c4-afdc-fcb46e3dd88d",
   "metadata": {},
   "source": [
    "### Write an algorithm that computes the acceptable solution with the longest possible duration.\n",
    "Given our observation, we now describe a possible algorithm to solve this problem, we illustrate an example, and then we give a description of the algorithm in pseudocode.\n",
    "\n",
    "The core of the algorithm lies in the fact that, given any three consecutive elements $r_i, r_{i+1}, r_{i+2}, r_{i+3}$, if $r_{i+3}$ is in the optimal solution, then either $r_{i}$ or $r{i+1}$ is in the optimal solution as well. The algorithm will scan through each appointment, starting from the first, and will find the best possible solution (up to that point) that contains that appointment by confronting the best possible solution for the two preceeding appointment (not counting the adjacent one) and adding the appointment in question to that. In the end, we consider the two best solutions that contains the last two appointment, and we choose the best of the two as the optimal one.\n",
    "\n",
    "We now describe the functioning of the algorithm with an example:\n",
    "\n",
    "1. Consider the sequence of appointments given in the text `[30, 40, 25, 50, 30, 20]`.\n",
    "2. The best solution that contains $30$ is `[30]`\n",
    "3. The best solution that contains $40$ is `[40]`\n",
    "4. The best solution that contains $25$ is `[30, 25]` with a length of $55$\n",
    "5. There are two candidate solutions that contain $50$: the best solution that contains $30$, and the best solution that contains $40$. From the previous three points we know that these are, respectively, `[30]` and `[40]`; since we want the best possible solution, we choose the second, so the best possible solution that contains $50$ is `[40, 50]` with a length of $90$\n",
    "6. There are two candidate solutions that contain $30$: the best solution that contains $40$, and the best solution that contains $25$. From the previous three points we know that these are, respectively, `[40]` and `[30, 25]` (which has a length of $55$); since we want the best possible solution, we choose the second, so the best possible solution that contains $30$ is `[30, 25, 30]` with a length of $85$\n",
    "7. Finally, there are two candidate solutions that contain $20$: the best solution that contains $25$, and the best solution that contains $50$. From the previous three points we know that these are, respectively, `[30, 25]` with a length of $55$ and `[40, 50]` with a length of $90$; since we want the best possible solution, we choose the second, so the best possible solution that contains $20$ is `[40, 50, 20]` with a length of $110$\n",
    "8. Now we consider just the last two appointments. We just have to compare the best possible solution that contains $30$, and the best possible solution that contains $20$; these are, respectively, `[30, 25, 30]` with a length of $85$ and `[40, 50, 20]` with a length of $110$. Since we want the best possible solution, we choose the second to be our optimal solution.\n",
    "\n",
    "Finally, here is a description of the algorithm in pseudocode:\n",
    "```\n",
    "input: the list of requests\n",
    "output: the (ordered) list of requests that belong to the optimal solution\n",
    "\n",
    "function personal_trainer(req) {\n",
    "    num_req = len(req)\n",
    "    \n",
    "    #manually taking care of the simple cases\n",
    "    if (num_req <= 1) return(req)\n",
    "    if (num_req == 2) return( [max(req)] )\n",
    "    if (num_req == 3) {\n",
    "        solution1 = req[0] + req[2]\n",
    "        solution2 = req[1]\n",
    "        if (solution1 > solution2) return( [req[0], req[2]] )\n",
    "        else return( [req[2]] )\n",
    "    }\n",
    "    \n",
    "    \n",
    "    # generating all the three possible ways of choosing the first three element for a possible solution\n",
    "    # we will store a possible solution in an array of length 2 which contains\n",
    "    # in the first entry: the list of appointments in req that we want to have in the optimal solution\n",
    "    # in the second entry: the total length of the appointments in the optimal solution, i.e. the quantity that we are trying to maximize\n",
    "    \n",
    "    solution1 = ([req[0]], req[0])\n",
    "    solution2 = ([req[1]], req[1])\n",
    "    solution3 = ([req[0], req[2]], req[0]+req[2])\n",
    "    \n",
    "    candidates = [solution1, solution2, solution3]\n",
    "    \n",
    "    for (i in 3 to num_req) {    #3 is included, num_req is excluded\n",
    "        length_solution1 = candidates[-3][1]\n",
    "        length_solution2 = candidates[-2][1]\n",
    "        \n",
    "        if (length_solution1 >= length_solution2) {\n",
    "            appointments = candidates[-3][0] + [req[i]]   #here '+' means list concatenation\n",
    "            length = candidates[-3][1] + req[i]\n",
    "            \n",
    "            candidates.append( (appointments, length) )\n",
    "        } else {\n",
    "            appointments = candidates[-2][0] + [req[i]]   #here '+' means list concatenation\n",
    "            length = candidates[-2][1] + req[i]\n",
    "            \n",
    "            candidates.append( (appointments, length) )\n",
    "        }\n",
    "    }\n",
    "    \n",
    "    \n",
    "    length_solution1 = candidates[-2][1]\n",
    "    length_solution2 = candidates[-1][1]\n",
    "    \n",
    "    if (length_solution1 >= length_solution2) {\n",
    "        return( candidates[-2][0] )\n",
    "    } else {\n",
    "        return( candidates[-1][0] )\n",
    "    }\n",
    "}\n",
    "```"
   ]
  },
  {
   "cell_type": "markdown",
   "id": "e0aa2449-eaa2-4c6b-9009-4e4e51f13cb5",
   "metadata": {},
   "source": [
    "### Implement a program that given in input an instance in the form given above, gives the optimal solution."
   ]
  },
  {
   "cell_type": "code",
   "execution_count": 1,
   "id": "34cc55c2-786c-4509-abf9-75110fd19d63",
   "metadata": {},
   "outputs": [],
   "source": [
    "def personal_trainer(requests):\n",
    "    '''\n",
    "    input: the list of requests\n",
    "    output: the (ordered) list of requests that belong to the optimal solution\n",
    "    '''\n",
    "    \n",
    "    def best_solution(candidates):\n",
    "        '''\n",
    "        input: the list of the three last candidates solution\n",
    "        output: the index of the best solution among the first two\n",
    "        '''\n",
    "        \n",
    "        if (candidates[0][1] >= candidates[1][1]):\n",
    "            return(0)\n",
    "        else:\n",
    "            return(1)\n",
    "    \n",
    "    \n",
    "    \n",
    "    number_of_requests = len(requests)\n",
    "    \n",
    "    ## manually taking care of the simple cases\n",
    "    \n",
    "    # if the list is empty or has just one element, we return the list itself\n",
    "    if (number_of_requests <= 1):\n",
    "        return(requests)\n",
    "    \n",
    "    # if the list has just two elements, we return the biggest of the two\n",
    "    if (number_of_requests == 2):\n",
    "        return( [max(requests)] )\n",
    "    \n",
    "    # if the list has just three elements, we return either the second appointment, or the first and the last\n",
    "    if (number_of_requests == 3):\n",
    "        \n",
    "        solution1 = requests[0] + requests[2]\n",
    "        solution2 = requests[1]\n",
    "        \n",
    "        if (solution1 > solution2):\n",
    "            return( [requests[0], requests[2]] )\n",
    "        else:\n",
    "            return( [requests[2]] )\n",
    "    \n",
    "    \n",
    "    \n",
    "    # here we generate the best possible solution that contains a certain element for the first three elements\n",
    "    # we will store a possible solution in a tuple of length 2 which contains:\n",
    "    # in the first entry: the list of appointments that we want to have in the optimal solution\n",
    "    # in the second entry: the total length of the appointments in the optimal solution, i.e. the quantity that we are trying to maximize\n",
    "    \n",
    "    solution1 = ([requests[0]], requests[0])\n",
    "    solution2 = ([requests[1]], requests[1])\n",
    "    solution3 = ([requests[0], requests[2]], requests[0]+requests[2])\n",
    "    \n",
    "    \n",
    "    # candidates is a list that contains the best possible solution which contain a given three consecutive appointments\n",
    "    candidates = [solution1, solution2, solution3]\n",
    "    \n",
    "    # here we loop through every appointment and compute the best possible solution that contains it\n",
    "    for i in range(3, number_of_requests):\n",
    "        best_solution_idx = best_solution(candidates)\n",
    "        \n",
    "        appointments_list = candidates[best_solution_idx][0] + [requests[i]]    #best possible solution that contains requests[i]\n",
    "        length = candidates[best_solution_idx][1] + requests[i]    #total length of the best possible solution that contains requests[i]\n",
    "        \n",
    "        # here we add the solution relative to requests[i]\n",
    "        # and remove the solution relative to requests[i-3]\n",
    "        candidates.append((appointments_list, length))\n",
    "        del(candidates[0])\n",
    "    \n",
    "    del(candidates[0])\n",
    "    \n",
    "    \n",
    "    best_solution_idx = best_solution(candidates)\n",
    "    \n",
    "    return(candidates[best_solution_idx][0])"
   ]
  },
  {
   "cell_type": "code",
   "execution_count": 3,
   "id": "3be229a1-d441-4db6-b425-3f9ab485cda2",
   "metadata": {},
   "outputs": [],
   "source": [
    "requests = [30, 40, 25, 50, 30, 20]\n",
    "optimal_solution = personal_trainer(requests)"
   ]
  },
  {
   "cell_type": "code",
   "execution_count": 6,
   "id": "ab07f14e-08ce-474b-8c7f-0ec42f69818a",
   "metadata": {},
   "outputs": [
    {
     "name": "stdout",
     "output_type": "stream",
     "text": [
      "Given the sequence of requests [30, 40, 25, 50, 30, 20] \n",
      "To maximize the total length of the accepted appointments without ever accepting two consecutive requests the personal trainer should follow this schedule: [40, 50, 20]\n"
     ]
    }
   ],
   "source": [
    "print('Given the sequence of requests', requests,\\\n",
    "      '\\nTo maximize the total length of the accepted appointments without ever accepting two consecutive requests the personal trainer should follow this schedule:', optimal_solution)"
   ]
  }
 ],
 "metadata": {
  "kernelspec": {
   "display_name": "Python 3",
   "language": "python",
   "name": "python3"
  },
  "language_info": {
   "codemirror_mode": {
    "name": "ipython",
    "version": 3
   },
   "file_extension": ".py",
   "mimetype": "text/x-python",
   "name": "python",
   "nbconvert_exporter": "python",
   "pygments_lexer": "ipython3",
   "version": "3.8.8"
  }
 },
 "nbformat": 4,
 "nbformat_minor": 5
}
